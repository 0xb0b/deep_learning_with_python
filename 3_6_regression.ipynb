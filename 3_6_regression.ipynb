{
 "cells": [
  {
   "cell_type": "markdown",
   "metadata": {},
   "source": [
    "deep learning with python\n",
    "\n",
    "3.6 predicting house prices: a regression example"
   ]
  },
  {
   "cell_type": "code",
   "execution_count": 1,
   "metadata": {},
   "outputs": [
    {
     "name": "stderr",
     "output_type": "stream",
     "text": [
      "Using TensorFlow backend.\n"
     ]
    }
   ],
   "source": [
    "from keras.datasets import boston_housing\n",
    "from keras import models, layers, optimizers, losses, metrics\n",
    "import numpy as np\n",
    "import matplotlib.pyplot as viz"
   ]
  },
  {
   "cell_type": "code",
   "execution_count": 2,
   "metadata": {},
   "outputs": [],
   "source": [
    "(train_data, train_targets), (test_data, test_targets) = boston_housing.load_data()"
   ]
  },
  {
   "cell_type": "code",
   "execution_count": 3,
   "metadata": {},
   "outputs": [],
   "source": [
    "mu = train_data.mean(axis=0)\n",
    "sigma = train_data.std(axis=0)\n",
    "train_data = (train_data - mu)/sigma\n",
    "test_data = (test_data - mu)/sigma"
   ]
  },
  {
   "cell_type": "markdown",
   "metadata": {},
   "source": [
    "build the model\n",
    "\n",
    "hyperparameters:\n",
    "* architecture:\n",
    "    - number of hidden layers\n",
    "    - number of units in each hidden layer\n",
    "* optimization:\n",
    "    - learning rate"
   ]
  },
  {
   "cell_type": "code",
   "execution_count": 4,
   "metadata": {},
   "outputs": [],
   "source": [
    "def build_model(num_units=None, learning_rate=0.001):\n",
    "    model = models.Sequential()\n",
    "    if num_units is not None:\n",
    "        num_layers = len(num_units)\n",
    "        # input layer\n",
    "        num_features = train_data.shape[1]\n",
    "        model.add(layers.Dense(num_units[0], activation='relu', input_shape=(num_features,)))\n",
    "        # hidden layers\n",
    "        for i in range(1, num_layers - 1):\n",
    "            model.add(layers.Dense(num_units[i], activation='relu'))\n",
    "        # output layer\n",
    "        model.add(layers.Dense(num_units[-1]))\n",
    "\n",
    "        model.compile(optimizer=optimizers.RMSprop(lr=learning_rate),\n",
    "                      loss=losses.mae,\n",
    "                      metrics=[metrics.mae])\n",
    "    return model"
   ]
  },
  {
   "cell_type": "markdown",
   "metadata": {},
   "source": [
    "tune the model\n",
    "\n",
    "use K-fold cross validation: validation set is small, so validation scores have high variance. train K models using different parts of training data as validation set and average the scores.\n",
    "\n",
    "hyperparameters:\n",
    "\n",
    "- batch size\n",
    "- number of epochs"
   ]
  },
  {
   "cell_type": "code",
   "execution_count": 38,
   "metadata": {},
   "outputs": [
    {
     "name": "stdout",
     "output_type": "stream",
     "text": [
      "-> processing fold #0\n",
      "-> processing fold #1\n",
      "-> processing fold #2\n",
      "-> processing fold #3\n"
     ]
    }
   ],
   "source": [
    "k = 4\n",
    "num_val_samples = len(train_data) // k\n",
    "num_epochs = 80\n",
    "mae_histories = []\n",
    "for i in range(k):\n",
    "    print('-> processing fold #{}'.format(i))\n",
    "    validation_data = train_data[i * num_val_samples : (i + 1) * num_val_samples]\n",
    "    validation_targets = train_targets[i * num_val_samples : (i + 1) * num_val_samples]\n",
    "    partial_train_data = np.concatenate([train_data[: i * num_val_samples],\n",
    "                                         train_data[(i + 1) * num_val_samples :]],\n",
    "                                        axis=0)\n",
    "    partial_train_targets = np.concatenate([train_targets[: i * num_val_samples],\n",
    "                                            train_targets[(i + 1) * num_val_samples :]],\n",
    "                                           axis=0)\n",
    "    model = build_model(num_units=[64, 32, 1], learning_rate=0.001)\n",
    "    mae_history = model.fit(partial_train_data, partial_train_targets,\n",
    "                            validation_data=(validation_data, validation_targets),\n",
    "                            epochs=num_epochs, batch_size=1, verbose=0).history['val_mean_absolute_error']\n",
    "    mae_histories.append(mae_history)\n",
    "average_mae_history = np.mean(mae_histories, axis=0)"
   ]
  },
  {
   "cell_type": "markdown",
   "metadata": {},
   "source": [
    "smooth average validation mae curve and remove first 10 points as they are too big compared to the rest"
   ]
  },
  {
   "cell_type": "code",
   "execution_count": 39,
   "metadata": {},
   "outputs": [],
   "source": [
    "def smooth_exp_moving_average(points, factor=0.9):\n",
    "    smoothed_points = []\n",
    "    for point in points:\n",
    "        if smoothed_points:\n",
    "            previous_point = smoothed_points[-1]\n",
    "            smoothed_points.append(previous_point * factor + point * (1 - factor))\n",
    "        else:\n",
    "            smoothed_points.append(point)\n",
    "    return smoothed_points"
   ]
  },
  {
   "cell_type": "code",
   "execution_count": 40,
   "metadata": {},
   "outputs": [
    {
     "data": {
      "image/png": "[encoded data removed]",
      "text/plain": [
       "<Figure size 432x288 with 1 Axes>"
      ]
     },
     "metadata": {},
     "output_type": "display_data"
    }
   ],
   "source": [
    "smooth_mae_history = smooth_exp_moving_average(average_mae_history[10:])\n",
    "viz.plot(range(1, len(smooth_mae_history) + 1), smooth_mae_history)\n",
    "viz.xlabel(\"epochs\")\n",
    "viz.ylabel(\"average validation mae\")\n",
    "viz.show()"
   ]
  },
  {
   "cell_type": "markdown",
   "metadata": {},
   "source": [
    "final model\n",
    "(seems like (64, 64) dense layer is the best configuration in this case)"
   ]
  },
  {
   "cell_type": "code",
   "execution_count": 63,
   "metadata": {},
   "outputs": [
    {
     "name": "stdout",
     "output_type": "stream",
     "text": [
      "Epoch 1/60\n",
      "404/404 [==============================] - 1s 2ms/step - loss: 20.2000 - mean_absolute_error: 20.2000\n",
      "Epoch 2/60\n",
      "404/404 [==============================] - 0s 178us/step - loss: 15.1818 - mean_absolute_error: 15.1818\n",
      "Epoch 3/60\n",
      "404/404 [==============================] - 0s 212us/step - loss: 8.8558 - mean_absolute_error: 8.8558\n",
      "Epoch 4/60\n",
      "404/404 [==============================] - 0s 189us/step - loss: 5.1041 - mean_absolute_error: 5.1041\n",
      "Epoch 5/60\n",
      "404/404 [==============================] - 0s 225us/step - loss: 3.9303 - mean_absolute_error: 3.9303\n",
      "Epoch 6/60\n",
      "404/404 [==============================] - 0s 199us/step - loss: 3.3910 - mean_absolute_error: 3.3910\n",
      "Epoch 7/60\n",
      "404/404 [==============================] - 0s 212us/step - loss: 3.1181 - mean_absolute_error: 3.1181\n",
      "Epoch 8/60\n",
      "404/404 [==============================] - 0s 234us/step - loss: 2.9665 - mean_absolute_error: 2.9665\n",
      "Epoch 9/60\n",
      "404/404 [==============================] - 0s 183us/step - loss: 2.8329 - mean_absolute_error: 2.8329\n",
      "Epoch 10/60\n",
      "404/404 [==============================] - 0s 249us/step - loss: 2.7745 - mean_absolute_error: 2.7745\n",
      "Epoch 11/60\n",
      "404/404 [==============================] - 0s 204us/step - loss: 2.6445 - mean_absolute_error: 2.6445\n",
      "Epoch 12/60\n",
      "404/404 [==============================] - 0s 165us/step - loss: 2.5676 - mean_absolute_error: 2.5676\n",
      "Epoch 13/60\n",
      "404/404 [==============================] - 0s 250us/step - loss: 2.5237 - mean_absolute_error: 2.5237\n",
      "Epoch 14/60\n",
      "404/404 [==============================] - 0s 192us/step - loss: 2.4864 - mean_absolute_error: 2.4864\n",
      "Epoch 15/60\n",
      "404/404 [==============================] - 0s 209us/step - loss: 2.4525 - mean_absolute_error: 2.4525\n",
      "Epoch 16/60\n",
      "404/404 [==============================] - 0s 217us/step - loss: 2.3674 - mean_absolute_error: 2.3674\n",
      "Epoch 17/60\n",
      "404/404 [==============================] - 0s 186us/step - loss: 2.3672 - mean_absolute_error: 2.3672\n",
      "Epoch 18/60\n",
      "404/404 [==============================] - 0s 237us/step - loss: 2.3247 - mean_absolute_error: 2.3247\n",
      "Epoch 19/60\n",
      "404/404 [==============================] - 0s 241us/step - loss: 2.3365 - mean_absolute_error: 2.3365\n",
      "Epoch 20/60\n",
      "404/404 [==============================] - 0s 193us/step - loss: 2.3054 - mean_absolute_error: 2.3054\n",
      "Epoch 21/60\n",
      "404/404 [==============================] - 0s 238us/step - loss: 2.2525 - mean_absolute_error: 2.2525\n",
      "Epoch 22/60\n",
      "404/404 [==============================] - 0s 181us/step - loss: 2.2561 - mean_absolute_error: 2.2561\n",
      "Epoch 23/60\n",
      "404/404 [==============================] - 0s 249us/step - loss: 2.2055 - mean_absolute_error: 2.2055\n",
      "Epoch 24/60\n",
      "404/404 [==============================] - 0s 197us/step - loss: 2.2049 - mean_absolute_error: 2.2049\n",
      "Epoch 25/60\n",
      "404/404 [==============================] - 0s 210us/step - loss: 2.1824 - mean_absolute_error: 2.1824\n",
      "Epoch 26/60\n",
      "404/404 [==============================] - 0s 237us/step - loss: 2.1203 - mean_absolute_error: 2.1203\n",
      "Epoch 27/60\n",
      "404/404 [==============================] - 0s 397us/step - loss: 2.1545 - mean_absolute_error: 2.1545\n",
      "Epoch 28/60\n",
      "404/404 [==============================] - 0s 276us/step - loss: 2.1741 - mean_absolute_error: 2.1741\n",
      "Epoch 29/60\n",
      "404/404 [==============================] - 0s 369us/step - loss: 2.1082 - mean_absolute_error: 2.1082\n",
      "Epoch 30/60\n",
      "404/404 [==============================] - 0s 296us/step - loss: 2.0764 - mean_absolute_error: 2.0764\n",
      "Epoch 31/60\n",
      "404/404 [==============================] - 0s 269us/step - loss: 2.0748 - mean_absolute_error: 2.0748\n",
      "Epoch 32/60\n",
      "404/404 [==============================] - 0s 331us/step - loss: 2.1004 - mean_absolute_error: 2.1004\n",
      "Epoch 33/60\n",
      "404/404 [==============================] - 0s 352us/step - loss: 2.0524 - mean_absolute_error: 2.0524\n",
      "Epoch 34/60\n",
      "404/404 [==============================] - 0s 322us/step - loss: 2.0529 - mean_absolute_error: 2.0529\n",
      "Epoch 35/60\n",
      "404/404 [==============================] - 0s 344us/step - loss: 2.0535 - mean_absolute_error: 2.0535\n",
      "Epoch 36/60\n",
      "404/404 [==============================] - 0s 291us/step - loss: 2.0195 - mean_absolute_error: 2.0195\n",
      "Epoch 37/60\n",
      "404/404 [==============================] - 0s 307us/step - loss: 2.0022 - mean_absolute_error: 2.0022\n",
      "Epoch 38/60\n",
      "404/404 [==============================] - 0s 331us/step - loss: 2.0211 - mean_absolute_error: 2.0211\n",
      "Epoch 39/60\n",
      "404/404 [==============================] - 0s 237us/step - loss: 2.0263 - mean_absolute_error: 2.0263\n",
      "Epoch 40/60\n",
      "404/404 [==============================] - 0s 272us/step - loss: 1.9678 - mean_absolute_error: 1.9678\n",
      "Epoch 41/60\n",
      "404/404 [==============================] - 0s 242us/step - loss: 1.9831 - mean_absolute_error: 1.9831\n",
      "Epoch 42/60\n",
      "404/404 [==============================] - 0s 197us/step - loss: 1.9678 - mean_absolute_error: 1.9678\n",
      "Epoch 43/60\n",
      "404/404 [==============================] - 0s 197us/step - loss: 1.9556 - mean_absolute_error: 1.9556\n",
      "Epoch 44/60\n",
      "404/404 [==============================] - 0s 227us/step - loss: 1.9290 - mean_absolute_error: 1.9290\n",
      "Epoch 45/60\n",
      "404/404 [==============================] - 0s 197us/step - loss: 1.9611 - mean_absolute_error: 1.9611\n",
      "Epoch 46/60\n",
      "404/404 [==============================] - 0s 233us/step - loss: 1.9594 - mean_absolute_error: 1.9594\n",
      "Epoch 47/60\n",
      "404/404 [==============================] - 0s 210us/step - loss: 1.9647 - mean_absolute_error: 1.9647\n",
      "Epoch 48/60\n",
      "404/404 [==============================] - 0s 216us/step - loss: 1.9155 - mean_absolute_error: 1.9155\n",
      "Epoch 49/60\n",
      "404/404 [==============================] - 0s 315us/step - loss: 1.9612 - mean_absolute_error: 1.9612\n",
      "Epoch 50/60\n",
      "404/404 [==============================] - 0s 277us/step - loss: 1.8900 - mean_absolute_error: 1.8900\n",
      "Epoch 51/60\n",
      "404/404 [==============================] - 0s 343us/step - loss: 1.9282 - mean_absolute_error: 1.9282\n",
      "Epoch 52/60\n",
      "404/404 [==============================] - 0s 338us/step - loss: 1.8928 - mean_absolute_error: 1.8928\n",
      "Epoch 53/60\n",
      "404/404 [==============================] - 0s 361us/step - loss: 1.8649 - mean_absolute_error: 1.8649\n",
      "Epoch 54/60\n",
      "404/404 [==============================] - 0s 266us/step - loss: 1.8636 - mean_absolute_error: 1.8636\n",
      "Epoch 55/60\n",
      "404/404 [==============================] - 0s 394us/step - loss: 1.9094 - mean_absolute_error: 1.9094\n",
      "Epoch 56/60\n",
      "404/404 [==============================] - 0s 268us/step - loss: 1.8714 - mean_absolute_error: 1.8714\n",
      "Epoch 57/60\n",
      "404/404 [==============================] - 0s 372us/step - loss: 1.8480 - mean_absolute_error: 1.8480\n",
      "Epoch 58/60\n",
      "404/404 [==============================] - 0s 213us/step - loss: 1.8426 - mean_absolute_error: 1.8426\n",
      "Epoch 59/60\n",
      "404/404 [==============================] - 0s 208us/step - loss: 1.8742 - mean_absolute_error: 1.8742\n",
      "Epoch 60/60\n",
      "404/404 [==============================] - 0s 198us/step - loss: 1.8245 - mean_absolute_error: 1.8245\n"
     ]
    },
    {
     "data": {
      "text/plain": [
       "<keras.callbacks.History at 0x7f99b0987550>"
      ]
     },
     "execution_count": 63,
     "metadata": {},
     "output_type": "execute_result"
    }
   ],
   "source": [
    "model = build_model(num_units=[64, 64, 1], learning_rate=0.001)\n",
    "model.fit(train_data, train_targets, epochs=60, batch_size=16)"
   ]
  },
  {
   "cell_type": "code",
   "execution_count": 64,
   "metadata": {},
   "outputs": [
    {
     "name": "stdout",
     "output_type": "stream",
     "text": [
      "102/102 [==============================] - 0s 4ms/step\n"
     ]
    },
    {
     "data": {
      "text/plain": [
       "[2.950055290670956, 2.950055290670956]"
      ]
     },
     "execution_count": 64,
     "metadata": {},
     "output_type": "execute_result"
    }
   ],
   "source": [
    "model.evaluate(test_data, test_targets)"
   ]
  },
  {
   "cell_type": "code",
   "execution_count": null,
   "metadata": {},
   "outputs": [],
   "source": []
  }
 ],
 "metadata": {
  "kernelspec": {
   "display_name": "Python 3",
   "language": "python",
   "name": "python3"
  },
  "language_info": {
   "codemirror_mode": {
    "name": "ipython",
    "version": 3
   },
   "file_extension": ".py",
   "mimetype": "text/x-python",
   "name": "python",
   "nbconvert_exporter": "python",
   "pygments_lexer": "ipython3",
   "version": "3.6.6"
  }
 },
 "nbformat": 4,
 "nbformat_minor": 2
}
