{
 "cells": [
  {
   "cell_type": "code",
   "execution_count": 1,
   "metadata": {},
   "outputs": [
    {
     "name": "stderr",
     "output_type": "stream",
     "text": [
      "Using TensorFlow backend.\n"
     ]
    }
   ],
   "source": [
    "from keras.datasets import mnist\n",
    "from keras.utils import to_categorical\n",
    "from keras import models, layers, optimizers, losses, metrics\n",
    "import matplotlib.pyplot as viz"
   ]
  },
  {
   "cell_type": "code",
   "execution_count": 2,
   "metadata": {},
   "outputs": [
    {
     "name": "stdout",
     "output_type": "stream",
     "text": [
      "Downloading data from https://s3.amazonaws.com/img-datasets/mnist.npz\n",
      "11493376/11490434 [==============================] - 18s 2us/step\n"
     ]
    }
   ],
   "source": [
    "(train_data, train_labels), (test_data, test_labels) = mnist.load_data()"
   ]
  },
  {
   "cell_type": "code",
   "execution_count": 3,
   "metadata": {},
   "outputs": [],
   "source": [
    "num_train_images, width, height = train_data.shape\n",
    "num_pixels = width * height\n",
    "x_train = train_data.reshape(num_train_images,\n",
    "                             num_pixels).astype('float32') / 255\n",
    "\n",
    "num_test_images, _, _ = test_data.shape\n",
    "x_test = test_data.reshape(num_test_images,\n",
    "                           num_pixels).astype('float32') / 255\n",
    "\n",
    "y_train = to_categorical(train_labels)\n",
    "y_test = to_categorical(test_labels)"
   ]
  },
  {
   "cell_type": "markdown",
   "metadata": {},
   "source": [
    "build the network\n",
    "\n",
    "hyperparameters:\n",
    "* architecture: number of hidden layers, number of units in each hidden layer\n",
    "* optimization: learning rate"
   ]
  },
  {
   "cell_type": "code",
   "execution_count": 4,
   "metadata": {},
   "outputs": [],
   "source": [
    "num_units = [512]\n",
    "num_hidden_layers = len(num_units)\n",
    "learning_rate = 0.0001\n",
    "\n",
    "model = models.Sequential()\n",
    "# first hidden layer with input shape specified\n",
    "model.add(layers.Dense(num_units[0], activation='relu',\n",
    "                       input_shape=(num_pixels,)))\n",
    "for i in range(1, num_hidden_layers):\n",
    "    model.add(layers.Dense(num_units[i], activation='relu'))\n",
    "# output layer\n",
    "model.add(layers.Dense(10, activation='softmax'))\n",
    "\n",
    "model.compile(optimizer=optimizers.RMSprop(lr=learning_rate),\n",
    "              loss=losses.categorical_crossentropy,\n",
    "              metrics=[metrics.categorical_accuracy])"
   ]
  },
  {
   "cell_type": "markdown",
   "metadata": {},
   "source": [
    "train the model\n",
    "\n",
    "hyperparameters:\n",
    "* batch size\n",
    "* number of epochs"
   ]
  },
  {
   "cell_type": "code",
   "execution_count": 5,
   "metadata": {},
   "outputs": [
    {
     "name": "stdout",
     "output_type": "stream",
     "text": [
      "Train on 48000 samples, validate on 12000 samples\n",
      "Epoch 1/20\n",
      "48000/48000 [==============================] - 1s 27us/step - loss: 0.7047 - categorical_accuracy: 0.8411 - val_loss: 0.3325 - val_categorical_accuracy: 0.9138\n",
      "Epoch 2/20\n",
      "48000/48000 [==============================] - 1s 11us/step - loss: 0.3121 - categorical_accuracy: 0.9148 - val_loss: 0.2615 - val_categorical_accuracy: 0.9275\n",
      "Epoch 3/20\n",
      "48000/48000 [==============================] - 1s 11us/step - loss: 0.2563 - categorical_accuracy: 0.9295 - val_loss: 0.2283 - val_categorical_accuracy: 0.9368\n",
      "Epoch 4/20\n",
      "48000/48000 [==============================] - 1s 11us/step - loss: 0.2221 - categorical_accuracy: 0.9391 - val_loss: 0.2041 - val_categorical_accuracy: 0.9435\n",
      "Epoch 5/20\n",
      "48000/48000 [==============================] - 1s 11us/step - loss: 0.1974 - categorical_accuracy: 0.9444 - val_loss: 0.1865 - val_categorical_accuracy: 0.9490\n",
      "Epoch 6/20\n",
      "48000/48000 [==============================] - 1s 11us/step - loss: 0.1774 - categorical_accuracy: 0.9510 - val_loss: 0.1728 - val_categorical_accuracy: 0.9524\n",
      "Epoch 7/20\n",
      "48000/48000 [==============================] - 1s 11us/step - loss: 0.1609 - categorical_accuracy: 0.9556 - val_loss: 0.1615 - val_categorical_accuracy: 0.9543\n",
      "Epoch 8/20\n",
      "48000/48000 [==============================] - 1s 11us/step - loss: 0.1466 - categorical_accuracy: 0.9594 - val_loss: 0.1515 - val_categorical_accuracy: 0.9577\n",
      "Epoch 9/20\n",
      "48000/48000 [==============================] - 1s 11us/step - loss: 0.1348 - categorical_accuracy: 0.9627 - val_loss: 0.1417 - val_categorical_accuracy: 0.9600\n",
      "Epoch 10/20\n",
      "48000/48000 [==============================] - 1s 11us/step - loss: 0.1243 - categorical_accuracy: 0.9657 - val_loss: 0.1360 - val_categorical_accuracy: 0.9610\n",
      "Epoch 11/20\n",
      "48000/48000 [==============================] - 1s 11us/step - loss: 0.1153 - categorical_accuracy: 0.9685 - val_loss: 0.1285 - val_categorical_accuracy: 0.9627\n",
      "Epoch 12/20\n",
      "48000/48000 [==============================] - 1s 11us/step - loss: 0.1072 - categorical_accuracy: 0.9705 - val_loss: 0.1242 - val_categorical_accuracy: 0.9643\n",
      "Epoch 13/20\n",
      "48000/48000 [==============================] - 1s 12us/step - loss: 0.0999 - categorical_accuracy: 0.9730 - val_loss: 0.1196 - val_categorical_accuracy: 0.9649\n",
      "Epoch 14/20\n",
      "48000/48000 [==============================] - 1s 11us/step - loss: 0.0934 - categorical_accuracy: 0.9751 - val_loss: 0.1158 - val_categorical_accuracy: 0.9666\n",
      "Epoch 15/20\n",
      "48000/48000 [==============================] - 1s 11us/step - loss: 0.0875 - categorical_accuracy: 0.9769 - val_loss: 0.1106 - val_categorical_accuracy: 0.9685\n",
      "Epoch 16/20\n",
      "48000/48000 [==============================] - 1s 12us/step - loss: 0.0822 - categorical_accuracy: 0.9784 - val_loss: 0.1091 - val_categorical_accuracy: 0.9679\n",
      "Epoch 17/20\n",
      "48000/48000 [==============================] - 1s 13us/step - loss: 0.0774 - categorical_accuracy: 0.9799 - val_loss: 0.1058 - val_categorical_accuracy: 0.9683\n",
      "Epoch 18/20\n",
      "48000/48000 [==============================] - 1s 12us/step - loss: 0.0729 - categorical_accuracy: 0.9812 - val_loss: 0.1035 - val_categorical_accuracy: 0.9702\n",
      "Epoch 19/20\n",
      "48000/48000 [==============================] - 1s 11us/step - loss: 0.0688 - categorical_accuracy: 0.9825 - val_loss: 0.1006 - val_categorical_accuracy: 0.9697\n",
      "Epoch 20/20\n",
      "48000/48000 [==============================] - 1s 11us/step - loss: 0.0653 - categorical_accuracy: 0.9831 - val_loss: 0.0983 - val_categorical_accuracy: 0.9708\n"
     ]
    }
   ],
   "source": [
    "num_epochs = 20\n",
    "history = model.fit(x_train, y_train, epochs=num_epochs, batch_size=128,\n",
    "                    validation_split=0.2).history"
   ]
  },
  {
   "cell_type": "code",
   "execution_count": 6,
   "metadata": {},
   "outputs": [
    {
     "name": "stdout",
     "output_type": "stream",
     "text": [
      "10000/10000 [==============================] - 0s 14us/step\n",
      "test data accuracy: 0.9738\n"
     ]
    }
   ],
   "source": [
    "# evaluate\n",
    "_, test_accuracy = model.evaluate(x_test, y_test)\n",
    "print('test data accuracy: {}'.format(test_accuracy))"
   ]
  },
  {
   "cell_type": "code",
   "execution_count": 7,
   "metadata": {},
   "outputs": [],
   "source": [
    "# changing hyperparameters has little effect on the model performance\n",
    "# layers: [512] vs [2048] vs [512, 256, 64, 32]\n",
    "# number of epochs: 3, 5, 8, 20\n",
    "# learning rate 0.001\n",
    "#   --> overfitting 0.999 training vs 0.98 test accuracy, starts after epoch 3\n",
    "# [512] and learning rate 0.01\n",
    "#   --> lower overfitting 0.986 training vs 0.973 test accuracy\n",
    "# [512] and learning rate 0.0001\n",
    "#   --> lower overfitting 0.984 training vs 0.975 test accuracy,\n",
    "#       starts after epoch 7\n",
    "\n",
    "# almost no dependence of performance on hyperparameters\n",
    "#   what is the simplest network with a similar performance for MNIST dataset?\n",
    "#     use Bayesian optimization to find hyperparameters values\n",
    "#     explore the dynamic architecture - graph instead of layer"
   ]
  },
  {
   "cell_type": "code",
   "execution_count": 8,
   "metadata": {},
   "outputs": [],
   "source": [
    "from keras import regularizers\n",
    "\n",
    "# add L2 weights regularization\n",
    "# hyperparameter: regularization parameter\n",
    "reg_lambda = 0.01\n",
    "\n",
    "model_l2 = models.Sequential()\n",
    "# first hidden layer with input shape specified\n",
    "model_l2.add(layers.Dense(num_units[0], activation='relu', kernel_regularizer=regularizers.l2(reg_lambda),\n",
    "                          input_shape=(num_pixels,)))\n",
    "for i in range(1, num_hidden_layers):\n",
    "    model_l2.add(layers.Dense(num_units[i], activation='relu'), kernel_regularizer=regularizers.l2(reg_lambda))\n",
    "# output layer\n",
    "model_l2.add(layers.Dense(10, activation='softmax'))\n",
    "\n",
    "model_l2.compile(optimizer=optimizers.RMSprop(lr=learning_rate),\n",
    "                 loss=losses.categorical_crossentropy,\n",
    "                 metrics=[metrics.categorical_accuracy])"
   ]
  },
  {
   "cell_type": "code",
   "execution_count": 9,
   "metadata": {},
   "outputs": [
    {
     "name": "stdout",
     "output_type": "stream",
     "text": [
      "Train on 48000 samples, validate on 12000 samples\n",
      "Epoch 1/20\n",
      "48000/48000 [==============================] - 1s 14us/step - loss: 4.2011 - categorical_accuracy: 0.8303 - val_loss: 1.9442 - val_categorical_accuracy: 0.8995\n",
      "Epoch 2/20\n",
      "48000/48000 [==============================] - 1s 12us/step - loss: 1.2554 - categorical_accuracy: 0.9010 - val_loss: 0.8382 - val_categorical_accuracy: 0.9153\n",
      "Epoch 3/20\n",
      "48000/48000 [==============================] - 1s 12us/step - loss: 0.7054 - categorical_accuracy: 0.9110 - val_loss: 0.5789 - val_categorical_accuracy: 0.9213\n",
      "Epoch 4/20\n",
      "48000/48000 [==============================] - 1s 11us/step - loss: 0.5391 - categorical_accuracy: 0.9176 - val_loss: 0.4731 - val_categorical_accuracy: 0.9274\n",
      "Epoch 5/20\n",
      "48000/48000 [==============================] - 1s 12us/step - loss: 0.4654 - categorical_accuracy: 0.9224 - val_loss: 0.4300 - val_categorical_accuracy: 0.9274\n",
      "Epoch 6/20\n",
      "48000/48000 [==============================] - 1s 12us/step - loss: 0.4257 - categorical_accuracy: 0.9264 - val_loss: 0.3942 - val_categorical_accuracy: 0.9323\n",
      "Epoch 7/20\n",
      "48000/48000 [==============================] - 1s 12us/step - loss: 0.3999 - categorical_accuracy: 0.9292 - val_loss: 0.3751 - val_categorical_accuracy: 0.9358\n",
      "Epoch 8/20\n",
      "48000/48000 [==============================] - 1s 11us/step - loss: 0.3806 - categorical_accuracy: 0.9309 - val_loss: 0.3588 - val_categorical_accuracy: 0.9388\n",
      "Epoch 9/20\n",
      "48000/48000 [==============================] - 1s 12us/step - loss: 0.3640 - categorical_accuracy: 0.9351 - val_loss: 0.3466 - val_categorical_accuracy: 0.9391\n",
      "Epoch 10/20\n",
      "48000/48000 [==============================] - 1s 12us/step - loss: 0.3511 - categorical_accuracy: 0.9382 - val_loss: 0.3331 - val_categorical_accuracy: 0.9431\n",
      "Epoch 11/20\n",
      "48000/48000 [==============================] - 1s 12us/step - loss: 0.3389 - categorical_accuracy: 0.9400 - val_loss: 0.3229 - val_categorical_accuracy: 0.9464\n",
      "Epoch 12/20\n",
      "48000/48000 [==============================] - 1s 12us/step - loss: 0.3283 - categorical_accuracy: 0.9419 - val_loss: 0.3181 - val_categorical_accuracy: 0.9451\n",
      "Epoch 13/20\n",
      "48000/48000 [==============================] - 1s 13us/step - loss: 0.3192 - categorical_accuracy: 0.9430 - val_loss: 0.3067 - val_categorical_accuracy: 0.9503\n",
      "Epoch 14/20\n",
      "48000/48000 [==============================] - 1s 13us/step - loss: 0.3103 - categorical_accuracy: 0.9450 - val_loss: 0.3019 - val_categorical_accuracy: 0.9472\n",
      "Epoch 15/20\n",
      "48000/48000 [==============================] - 1s 13us/step - loss: 0.3023 - categorical_accuracy: 0.9466 - val_loss: 0.2913 - val_categorical_accuracy: 0.9493\n",
      "Epoch 16/20\n",
      "48000/48000 [==============================] - 1s 12us/step - loss: 0.2953 - categorical_accuracy: 0.9481 - val_loss: 0.2835 - val_categorical_accuracy: 0.9523\n",
      "Epoch 17/20\n",
      "48000/48000 [==============================] - 1s 12us/step - loss: 0.2884 - categorical_accuracy: 0.9488 - val_loss: 0.2788 - val_categorical_accuracy: 0.9533\n",
      "Epoch 18/20\n",
      "48000/48000 [==============================] - 1s 12us/step - loss: 0.2819 - categorical_accuracy: 0.9504 - val_loss: 0.2739 - val_categorical_accuracy: 0.9527\n",
      "Epoch 19/20\n",
      "48000/48000 [==============================] - 1s 12us/step - loss: 0.2760 - categorical_accuracy: 0.9517 - val_loss: 0.2721 - val_categorical_accuracy: 0.9531\n",
      "Epoch 20/20\n",
      "48000/48000 [==============================] - 1s 12us/step - loss: 0.2706 - categorical_accuracy: 0.9524 - val_loss: 0.2660 - val_categorical_accuracy: 0.9539\n"
     ]
    }
   ],
   "source": [
    "history_l2 = model_l2.fit(x_train, y_train, epochs=num_epochs, batch_size=128, validation_split=0.2).history"
   ]
  },
  {
   "cell_type": "code",
   "execution_count": 10,
   "metadata": {},
   "outputs": [
    {
     "name": "stdout",
     "output_type": "stream",
     "text": [
      "10000/10000 [==============================] - 0s 14us/step\n",
      "test data accuracy: 0.9548\n"
     ]
    }
   ],
   "source": [
    "_, test_accuracy = model_l2.evaluate(x_test, y_test)\n",
    "print('test data accuracy: {}'.format(test_accuracy))"
   ]
  },
  {
   "cell_type": "code",
   "execution_count": 11,
   "metadata": {},
   "outputs": [],
   "source": [
    "# add dropout regularization\n",
    "# hyperparameter: dropout rate(s)\n",
    "rate = 0.5\n",
    "\n",
    "model_dropout = models.Sequential()\n",
    "# first hidden layer with input shape specified\n",
    "model_dropout.add(layers.Dense(num_units[0], activation='relu', input_shape=(num_pixels,)))\n",
    "model_dropout.add(layers.Dropout(rate))\n",
    "for i in range(1, num_hidden_layers):\n",
    "    model_dropout.add(layers.Dense(num_units[i], activation='relu'))\n",
    "    model_dropout.add(layers.Dropout(rate))\n",
    "# output layer\n",
    "model_dropout.add(layers.Dense(10, activation='softmax'))\n",
    "\n",
    "model_dropout.compile(optimizer=optimizers.RMSprop(lr=learning_rate),\n",
    "                      loss=losses.categorical_crossentropy,\n",
    "                      metrics=[metrics.categorical_accuracy])"
   ]
  },
  {
   "cell_type": "code",
   "execution_count": 12,
   "metadata": {},
   "outputs": [
    {
     "name": "stdout",
     "output_type": "stream",
     "text": [
      "Train on 48000 samples, validate on 12000 samples\n",
      "Epoch 1/20\n",
      "48000/48000 [==============================] - 1s 15us/step - loss: 0.8869 - categorical_accuracy: 0.7593 - val_loss: 0.3845 - val_categorical_accuracy: 0.9022\n",
      "Epoch 2/20\n",
      "48000/48000 [==============================] - 1s 12us/step - loss: 0.4034 - categorical_accuracy: 0.8850 - val_loss: 0.2896 - val_categorical_accuracy: 0.9226\n",
      "Epoch 3/20\n",
      "48000/48000 [==============================] - 1s 12us/step - loss: 0.3264 - categorical_accuracy: 0.9067 - val_loss: 0.2492 - val_categorical_accuracy: 0.9315\n",
      "Epoch 4/20\n",
      "48000/48000 [==============================] - 1s 12us/step - loss: 0.2821 - categorical_accuracy: 0.9204 - val_loss: 0.2215 - val_categorical_accuracy: 0.9386\n",
      "Epoch 5/20\n",
      "48000/48000 [==============================] - 1s 12us/step - loss: 0.2524 - categorical_accuracy: 0.9285 - val_loss: 0.2004 - val_categorical_accuracy: 0.9452\n",
      "Epoch 6/20\n",
      "48000/48000 [==============================] - 1s 12us/step - loss: 0.2271 - categorical_accuracy: 0.9353 - val_loss: 0.1852 - val_categorical_accuracy: 0.9483\n",
      "Epoch 7/20\n",
      "48000/48000 [==============================] - 1s 12us/step - loss: 0.2108 - categorical_accuracy: 0.9393 - val_loss: 0.1743 - val_categorical_accuracy: 0.9517\n",
      "Epoch 8/20\n",
      "48000/48000 [==============================] - 1s 12us/step - loss: 0.1954 - categorical_accuracy: 0.9434 - val_loss: 0.1630 - val_categorical_accuracy: 0.9552\n",
      "Epoch 9/20\n",
      "48000/48000 [==============================] - 1s 12us/step - loss: 0.1840 - categorical_accuracy: 0.9472 - val_loss: 0.1544 - val_categorical_accuracy: 0.9563\n",
      "Epoch 10/20\n",
      "48000/48000 [==============================] - 1s 13us/step - loss: 0.1721 - categorical_accuracy: 0.9496 - val_loss: 0.1474 - val_categorical_accuracy: 0.9586\n",
      "Epoch 11/20\n",
      "48000/48000 [==============================] - 1s 12us/step - loss: 0.1634 - categorical_accuracy: 0.9527 - val_loss: 0.1405 - val_categorical_accuracy: 0.9601\n",
      "Epoch 12/20\n",
      "48000/48000 [==============================] - 1s 13us/step - loss: 0.1542 - categorical_accuracy: 0.9551 - val_loss: 0.1348 - val_categorical_accuracy: 0.9612\n",
      "Epoch 13/20\n",
      "48000/48000 [==============================] - 1s 13us/step - loss: 0.1471 - categorical_accuracy: 0.9569 - val_loss: 0.1305 - val_categorical_accuracy: 0.9628\n",
      "Epoch 14/20\n",
      "48000/48000 [==============================] - 1s 13us/step - loss: 0.1395 - categorical_accuracy: 0.9604 - val_loss: 0.1262 - val_categorical_accuracy: 0.9628\n",
      "Epoch 15/20\n",
      "48000/48000 [==============================] - 1s 13us/step - loss: 0.1349 - categorical_accuracy: 0.9615 - val_loss: 0.1217 - val_categorical_accuracy: 0.9648\n",
      "Epoch 16/20\n",
      "48000/48000 [==============================] - 1s 14us/step - loss: 0.1297 - categorical_accuracy: 0.9619 - val_loss: 0.1180 - val_categorical_accuracy: 0.9665\n",
      "Epoch 17/20\n",
      "48000/48000 [==============================] - 1s 14us/step - loss: 0.1253 - categorical_accuracy: 0.9634 - val_loss: 0.1161 - val_categorical_accuracy: 0.9665\n",
      "Epoch 18/20\n",
      "48000/48000 [==============================] - 1s 15us/step - loss: 0.1189 - categorical_accuracy: 0.9646 - val_loss: 0.1133 - val_categorical_accuracy: 0.9665\n",
      "Epoch 19/20\n",
      "48000/48000 [==============================] - 1s 14us/step - loss: 0.1170 - categorical_accuracy: 0.9666 - val_loss: 0.1102 - val_categorical_accuracy: 0.9678\n",
      "Epoch 20/20\n",
      "48000/48000 [==============================] - 1s 13us/step - loss: 0.1109 - categorical_accuracy: 0.9684 - val_loss: 0.1076 - val_categorical_accuracy: 0.9685\n"
     ]
    }
   ],
   "source": [
    "history_dropout = model_dropout.fit(x_train, y_train, epochs=num_epochs, batch_size=128, validation_split=0.2).history"
   ]
  },
  {
   "cell_type": "code",
   "execution_count": 13,
   "metadata": {},
   "outputs": [
    {
     "name": "stdout",
     "output_type": "stream",
     "text": [
      "10000/10000 [==============================] - 0s 15us/step\n",
      "test data accuracy: 0.9693\n"
     ]
    }
   ],
   "source": [
    "_, test_accuracy = model_dropout.evaluate(x_test, y_test)\n",
    "print('test data accuracy: {}'.format(test_accuracy))"
   ]
  },
  {
   "cell_type": "code",
   "execution_count": 14,
   "metadata": {},
   "outputs": [
    {
     "data": {
      "image/png": "[encoded data removed]",
      "text/plain": [
       "<Figure size 432x288 with 1 Axes>"
      ]
     },
     "metadata": {
      "needs_background": "light"
     },
     "output_type": "display_data"
    }
   ],
   "source": [
    "x = range(1, num_epochs + 1)\n",
    "\n",
    "viz.plot(x, history['loss'], 'bo', label='training loss')\n",
    "viz.plot(x, history['val_loss'], 'b+', label='validation loss')\n",
    "viz.plot(x, history_l2['loss'], 'ro', label='training loss, L2 regularized')\n",
    "viz.plot(x, history_l2['val_loss'], 'r+', label='validation loss, l2 regularized')\n",
    "viz.plot(x, history_dropout['loss'], 'go', label='training loss, dropout')\n",
    "viz.plot(x, history_dropout['val_loss'], 'g+', label='validation loss, dropout')\n",
    "viz.title('training and validation loss')\n",
    "viz.xlabel('epochs')\n",
    "viz.ylabel('loss')\n",
    "viz.legend()\n",
    "viz.show()"
   ]
  },
  {
   "cell_type": "code",
   "execution_count": 15,
   "metadata": {},
   "outputs": [
    {
     "data": {
      "image/png": "[encoded data removed]",
      "text/plain": [
       "<Figure size 432x288 with 1 Axes>"
      ]
     },
     "metadata": {
      "needs_background": "light"
     },
     "output_type": "display_data"
    }
   ],
   "source": [
    "viz.plot(x, history['categorical_accuracy'], 'bo', label='training accuracy')\n",
    "viz.plot(x, history['val_categorical_accuracy'], 'b+', label='validation accuracy')\n",
    "viz.plot(x, history_l2['categorical_accuracy'], 'ro', label='training accuracy, L2 regularized')\n",
    "viz.plot(x, history_l2['val_categorical_accuracy'], 'r+', label='validation accuracy, l2 regularized')\n",
    "viz.plot(x, history_dropout['categorical_accuracy'], 'go', label='training accuracy, dropout')\n",
    "viz.plot(x, history_dropout['val_categorical_accuracy'], 'g+', label='validation accuracy, dropout')\n",
    "viz.title('training and validation accuracy')\n",
    "viz.xlabel('epochs')\n",
    "viz.ylabel('accuracy')\n",
    "viz.legend()\n",
    "viz.show()"
   ]
  },
  {
   "cell_type": "code",
   "execution_count": 16,
   "metadata": {},
   "outputs": [],
   "source": [
    "#convnet version\n",
    "\n",
    "# 1 channel in input images\n",
    "x_train_imgs = train_data.reshape((num_train_images, width, height, 1)).astype('float32') / 255\n",
    "x_test_imgs = test_data.reshape((num_test_images, width, height, 1)).astype('float32') / 255\n",
    "\n",
    "model_convnet = models.Sequential()\n",
    "model_convnet.add(layers.Conv2D(32, (3, 3), activation='relu', input_shape=(width, height, 1)))\n",
    "model_convnet.add(layers.MaxPooling2D((2, 2)))\n",
    "model_convnet.add(layers.Conv2D(64, (3, 3), activation='relu'))\n",
    "model_convnet.add(layers.MaxPooling2D((2, 2)))\n",
    "model_convnet.add(layers.Conv2D(64, (3, 3), activation='relu'))\n",
    "model_convnet.add(layers.Flatten())\n",
    "model_convnet.add(layers.Dense(64, activation='relu'))\n",
    "model_convnet.add(layers.Dense(10, activation='softmax'))\n",
    "\n",
    "model_convnet.compile(optimizer=optimizers.RMSprop(lr=learning_rate),\n",
    "                      loss=losses.categorical_crossentropy,\n",
    "                      metrics=[metrics.categorical_accuracy])"
   ]
  },
  {
   "cell_type": "code",
   "execution_count": 17,
   "metadata": {},
   "outputs": [
    {
     "name": "stdout",
     "output_type": "stream",
     "text": [
      "Train on 48000 samples, validate on 12000 samples\n",
      "Epoch 1/20\n",
      "48000/48000 [==============================] - 4s 79us/step - loss: 0.7394 - categorical_accuracy: 0.8073 - val_loss: 0.2644 - val_categorical_accuracy: 0.9204\n",
      "Epoch 2/20\n",
      "48000/48000 [==============================] - 3s 73us/step - loss: 0.2224 - categorical_accuracy: 0.9331 - val_loss: 0.1765 - val_categorical_accuracy: 0.9465\n",
      "Epoch 3/20\n",
      "48000/48000 [==============================] - 4s 80us/step - loss: 0.1457 - categorical_accuracy: 0.9573 - val_loss: 0.1294 - val_categorical_accuracy: 0.9620\n",
      "Epoch 4/20\n",
      "48000/48000 [==============================] - 3s 68us/step - loss: 0.1101 - categorical_accuracy: 0.9670 - val_loss: 0.0938 - val_categorical_accuracy: 0.9725\n",
      "Epoch 5/20\n",
      "48000/48000 [==============================] - 4s 77us/step - loss: 0.0901 - categorical_accuracy: 0.9726 - val_loss: 0.0823 - val_categorical_accuracy: 0.9762\n",
      "Epoch 6/20\n",
      "48000/48000 [==============================] - 4s 80us/step - loss: 0.0770 - categorical_accuracy: 0.9768 - val_loss: 0.0828 - val_categorical_accuracy: 0.9753\n",
      "Epoch 7/20\n",
      "48000/48000 [==============================] - 4s 80us/step - loss: 0.0678 - categorical_accuracy: 0.9791 - val_loss: 0.0681 - val_categorical_accuracy: 0.9795\n",
      "Epoch 8/20\n",
      "48000/48000 [==============================] - 4s 80us/step - loss: 0.0603 - categorical_accuracy: 0.9809 - val_loss: 0.0722 - val_categorical_accuracy: 0.9783\n",
      "Epoch 9/20\n",
      "48000/48000 [==============================] - 4s 73us/step - loss: 0.0549 - categorical_accuracy: 0.9831 - val_loss: 0.0585 - val_categorical_accuracy: 0.9834\n",
      "Epoch 10/20\n",
      "48000/48000 [==============================] - 4s 73us/step - loss: 0.0499 - categorical_accuracy: 0.9844 - val_loss: 0.0573 - val_categorical_accuracy: 0.9831\n",
      "Epoch 11/20\n",
      "48000/48000 [==============================] - 3s 70us/step - loss: 0.0454 - categorical_accuracy: 0.9864 - val_loss: 0.0526 - val_categorical_accuracy: 0.9843\n",
      "Epoch 12/20\n",
      "48000/48000 [==============================] - 3s 67us/step - loss: 0.0417 - categorical_accuracy: 0.9875 - val_loss: 0.0533 - val_categorical_accuracy: 0.9850\n",
      "Epoch 13/20\n",
      "48000/48000 [==============================] - 4s 86us/step - loss: 0.0390 - categorical_accuracy: 0.9880 - val_loss: 0.0510 - val_categorical_accuracy: 0.9856\n",
      "Epoch 14/20\n",
      "48000/48000 [==============================] - 3s 72us/step - loss: 0.0365 - categorical_accuracy: 0.9888 - val_loss: 0.0497 - val_categorical_accuracy: 0.9855\n",
      "Epoch 15/20\n",
      "48000/48000 [==============================] - 3s 62us/step - loss: 0.0338 - categorical_accuracy: 0.9894 - val_loss: 0.0476 - val_categorical_accuracy: 0.9868\n",
      "Epoch 16/20\n",
      "48000/48000 [==============================] - 3s 67us/step - loss: 0.0313 - categorical_accuracy: 0.9906 - val_loss: 0.0468 - val_categorical_accuracy: 0.9869\n",
      "Epoch 17/20\n",
      "48000/48000 [==============================] - 4s 74us/step - loss: 0.0298 - categorical_accuracy: 0.9908 - val_loss: 0.0482 - val_categorical_accuracy: 0.9862\n",
      "Epoch 18/20\n",
      "48000/48000 [==============================] - 4s 84us/step - loss: 0.0281 - categorical_accuracy: 0.9918 - val_loss: 0.0459 - val_categorical_accuracy: 0.9878\n",
      "Epoch 19/20\n",
      "48000/48000 [==============================] - 3s 72us/step - loss: 0.0259 - categorical_accuracy: 0.9921 - val_loss: 0.0461 - val_categorical_accuracy: 0.9859\n",
      "Epoch 20/20\n",
      "48000/48000 [==============================] - 3s 69us/step - loss: 0.0245 - categorical_accuracy: 0.9924 - val_loss: 0.0458 - val_categorical_accuracy: 0.9873\n"
     ]
    }
   ],
   "source": [
    "history_convnet = model_convnet.fit(x_train_imgs, y_train, epochs=num_epochs, batch_size=64, validation_split=0.2).history"
   ]
  },
  {
   "cell_type": "code",
   "execution_count": 18,
   "metadata": {},
   "outputs": [
    {
     "name": "stdout",
     "output_type": "stream",
     "text": [
      "10000/10000 [==============================] - 0s 29us/step\n",
      "test data accuracy: 0.9894\n"
     ]
    }
   ],
   "source": [
    "_, test_accuracy = model_convnet.evaluate(x_test_imgs, y_test)\n",
    "print('test data accuracy: {}'.format(test_accuracy))"
   ]
  },
  {
   "cell_type": "code",
   "execution_count": 19,
   "metadata": {},
   "outputs": [
    {
     "data": {
      "image/png": "[encoded data removed]",
      "text/plain": [
       "<Figure size 432x288 with 1 Axes>"
      ]
     },
     "metadata": {
      "needs_background": "light"
     },
     "output_type": "display_data"
    }
   ],
   "source": [
    "x = range(1, num_epochs + 1)\n",
    "\n",
    "viz.plot(x, history_convnet['loss'], 'bo', label='training loss')\n",
    "viz.plot(x, history_convnet['val_loss'], 'b+', label='validation loss')\n",
    "viz.title('training and validation loss')\n",
    "viz.xlabel('epochs')\n",
    "viz.ylabel('loss')\n",
    "viz.legend()\n",
    "viz.show()"
   ]
  },
  {
   "cell_type": "code",
   "execution_count": 20,
   "metadata": {},
   "outputs": [
    {
     "data": {
      "image/png": "[encoded data removed]",
      "text/plain": [
       "<Figure size 432x288 with 1 Axes>"
      ]
     },
     "metadata": {
      "needs_background": "light"
     },
     "output_type": "display_data"
    }
   ],
   "source": [
    "viz.plot(x, history_convnet['categorical_accuracy'], 'bo', label='training accuracy')\n",
    "viz.plot(x, history_convnet['val_categorical_accuracy'], 'b+', label='validation accuracy')\n",
    "viz.title('training and validation accuracy')\n",
    "viz.xlabel('epochs')\n",
    "viz.ylabel('accuracy')\n",
    "viz.legend()\n",
    "viz.show()"
   ]
  },
  {
   "cell_type": "code",
   "execution_count": null,
   "metadata": {},
   "outputs": [],
   "source": []
  }
 ],
 "metadata": {
  "kernelspec": {
   "display_name": "Python 3",
   "language": "python",
   "name": "python3"
  },
  "language_info": {
   "codemirror_mode": {
    "name": "ipython",
    "version": 3
   },
   "file_extension": ".py",
   "mimetype": "text/x-python",
   "name": "python",
   "nbconvert_exporter": "python",
   "pygments_lexer": "ipython3",
   "version": "3.6.6"
  }
 },
 "nbformat": 4,
 "nbformat_minor": 2
}
