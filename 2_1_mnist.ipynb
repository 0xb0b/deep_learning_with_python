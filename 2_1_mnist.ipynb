{
 "cells": [
  {
   "cell_type": "code",
   "execution_count": 1,
   "metadata": {},
   "outputs": [
    {
     "name": "stderr",
     "output_type": "stream",
     "text": [
      "Using TensorFlow backend.\n"
     ]
    }
   ],
   "source": [
    "from keras.datasets import mnist\n",
    "from keras.utils import to_categorical\n",
    "from keras import models, layers, optimizers, losses, metrics\n",
    "import matplotlib.pyplot as viz"
   ]
  },
  {
   "cell_type": "code",
   "execution_count": 2,
   "metadata": {},
   "outputs": [],
   "source": [
    "(train_data, train_labels), (test_data, test_labels) = mnist.load_data()"
   ]
  },
  {
   "cell_type": "code",
   "execution_count": 3,
   "metadata": {},
   "outputs": [],
   "source": [
    "num_train_images, width, height = train_data.shape\n",
    "num_pixels = width * height\n",
    "x_train = train_data.reshape(num_train_images,\n",
    "                             num_pixels).astype('float32') / 255\n",
    "\n",
    "num_test_images, _, _ = test_data.shape\n",
    "x_test = test_data.reshape(num_test_images,\n",
    "                           num_pixels).astype('float32') / 255\n",
    "\n",
    "y_train = to_categorical(train_labels)\n",
    "y_test = to_categorical(test_labels)"
   ]
  },
  {
   "cell_type": "markdown",
   "metadata": {},
   "source": [
    "build the network\n",
    "\n",
    "hyperparameters:\n",
    "* architecture: number of hidden layers, number of units in each hidden layer\n",
    "* optimization: learning rate"
   ]
  },
  {
   "cell_type": "code",
   "execution_count": 4,
   "metadata": {},
   "outputs": [],
   "source": [
    "num_units = [512]\n",
    "num_hidden_layers = len(num_units)\n",
    "learning_rate = 0.0001\n",
    "\n",
    "model = models.Sequential()\n",
    "# first hidden layer with input shape specified\n",
    "model.add(layers.Dense(num_units[0], activation='relu',\n",
    "                       input_shape=(num_pixels,)))\n",
    "for i in range(1, num_hidden_layers):\n",
    "    model.add(layers.Dense(num_units[i], activation='relu'))\n",
    "# output layer\n",
    "model.add(layers.Dense(10, activation='softmax'))\n",
    "\n",
    "model.compile(optimizer=optimizers.RMSprop(lr=learning_rate),\n",
    "              loss=losses.categorical_crossentropy,\n",
    "              metrics=[metrics.categorical_accuracy])"
   ]
  },
  {
   "cell_type": "markdown",
   "metadata": {},
   "source": [
    "train the model\n",
    "\n",
    "hyperparameters:\n",
    "* batch size\n",
    "* number of epochs"
   ]
  },
  {
   "cell_type": "code",
   "execution_count": 5,
   "metadata": {},
   "outputs": [
    {
     "name": "stdout",
     "output_type": "stream",
     "text": [
      "Train on 48000 samples, validate on 12000 samples\n",
      "Epoch 1/20\n",
      "48000/48000 [==============================] - 6s 118us/step - loss: 0.7188 - categorical_accuracy: 0.8394 - val_loss: 0.3342 - val_categorical_accuracy: 0.9107\n",
      "Epoch 2/20\n",
      "48000/48000 [==============================] - 5s 100us/step - loss: 0.3100 - categorical_accuracy: 0.9167 - val_loss: 0.2592 - val_categorical_accuracy: 0.9299\n",
      "Epoch 3/20\n",
      "48000/48000 [==============================] - 5s 100us/step - loss: 0.2519 - categorical_accuracy: 0.9300 - val_loss: 0.2275 - val_categorical_accuracy: 0.9373\n",
      "Epoch 4/20\n",
      "48000/48000 [==============================] - 6s 118us/step - loss: 0.2176 - categorical_accuracy: 0.9393 - val_loss: 0.2007 - val_categorical_accuracy: 0.9448\n",
      "Epoch 5/20\n",
      "48000/48000 [==============================] - 5s 106us/step - loss: 0.1925 - categorical_accuracy: 0.9463 - val_loss: 0.1818 - val_categorical_accuracy: 0.9509\n",
      "Epoch 6/20\n",
      "48000/48000 [==============================] - 5s 97us/step - loss: 0.1730 - categorical_accuracy: 0.9511 - val_loss: 0.1680 - val_categorical_accuracy: 0.9538\n",
      "Epoch 7/20\n",
      "48000/48000 [==============================] - 5s 95us/step - loss: 0.1572 - categorical_accuracy: 0.9557 - val_loss: 0.1570 - val_categorical_accuracy: 0.9566\n",
      "Epoch 8/20\n",
      "48000/48000 [==============================] - 5s 96us/step - loss: 0.1438 - categorical_accuracy: 0.9597 - val_loss: 0.1480 - val_categorical_accuracy: 0.9582\n",
      "Epoch 9/20\n",
      "48000/48000 [==============================] - 5s 95us/step - loss: 0.1326 - categorical_accuracy: 0.9634 - val_loss: 0.1403 - val_categorical_accuracy: 0.9610\n",
      "Epoch 10/20\n",
      "48000/48000 [==============================] - 5s 95us/step - loss: 0.1226 - categorical_accuracy: 0.9663 - val_loss: 0.1341 - val_categorical_accuracy: 0.9627\n",
      "Epoch 11/20\n",
      "48000/48000 [==============================] - 7s 150us/step - loss: 0.1139 - categorical_accuracy: 0.9690 - val_loss: 0.1271 - val_categorical_accuracy: 0.9639\n",
      "Epoch 12/20\n",
      "48000/48000 [==============================] - 5s 114us/step - loss: 0.1062 - categorical_accuracy: 0.9710 - val_loss: 0.1226 - val_categorical_accuracy: 0.9639\n",
      "Epoch 13/20\n",
      "48000/48000 [==============================] - 5s 96us/step - loss: 0.0996 - categorical_accuracy: 0.9728 - val_loss: 0.1195 - val_categorical_accuracy: 0.9653\n",
      "Epoch 14/20\n",
      "48000/48000 [==============================] - 5s 97us/step - loss: 0.0932 - categorical_accuracy: 0.9747 - val_loss: 0.1151 - val_categorical_accuracy: 0.9679\n",
      "Epoch 15/20\n",
      "48000/48000 [==============================] - 5s 96us/step - loss: 0.0875 - categorical_accuracy: 0.9760 - val_loss: 0.1107 - val_categorical_accuracy: 0.9687\n",
      "Epoch 16/20\n",
      "48000/48000 [==============================] - 5s 97us/step - loss: 0.0823 - categorical_accuracy: 0.9777 - val_loss: 0.1100 - val_categorical_accuracy: 0.9679\n",
      "Epoch 17/20\n",
      "48000/48000 [==============================] - 5s 97us/step - loss: 0.0776 - categorical_accuracy: 0.9794 - val_loss: 0.1063 - val_categorical_accuracy: 0.9699\n",
      "Epoch 18/20\n",
      "48000/48000 [==============================] - 5s 99us/step - loss: 0.0733 - categorical_accuracy: 0.9804 - val_loss: 0.1031 - val_categorical_accuracy: 0.9702\n",
      "Epoch 19/20\n",
      "48000/48000 [==============================] - 5s 102us/step - loss: 0.0696 - categorical_accuracy: 0.9816 - val_loss: 0.1007 - val_categorical_accuracy: 0.9710\n",
      "Epoch 20/20\n",
      "48000/48000 [==============================] - 5s 102us/step - loss: 0.0658 - categorical_accuracy: 0.9830 - val_loss: 0.0978 - val_categorical_accuracy: 0.9723\n"
     ]
    }
   ],
   "source": [
    "num_epochs = 20\n",
    "history = model.fit(x_train, y_train, epochs=num_epochs, batch_size=128,\n",
    "                    validation_split=0.2).history"
   ]
  },
  {
   "cell_type": "code",
   "execution_count": 6,
   "metadata": {},
   "outputs": [
    {
     "name": "stdout",
     "output_type": "stream",
     "text": [
      "10000/10000 [==============================] - 1s 63us/step\n",
      "test data accuracy: 0.9739\n"
     ]
    }
   ],
   "source": [
    "# evaluate\n",
    "_, test_accuracy = model.evaluate(x_test, y_test)\n",
    "print('test data accuracy: {}'.format(test_accuracy))"
   ]
  },
  {
   "cell_type": "code",
   "execution_count": 7,
   "metadata": {},
   "outputs": [],
   "source": [
    "# changing hyperparameters has little effect on the model performance\n",
    "# layers: [512] vs [2048] vs [512, 256, 64, 32]\n",
    "# number of epochs: 3, 5, 8, 20\n",
    "# learning rate 0.001\n",
    "#   --> overfitting 0.999 training vs 0.98 test accuracy, starts after epoch 3\n",
    "# [512] and learning rate 0.01\n",
    "#   --> lower overfitting 0.986 training vs 0.973 test accuracy\n",
    "# [512] and learning rate 0.0001\n",
    "#   --> lower overfitting 0.984 training vs 0.975 test accuracy,\n",
    "#       starts after epoch 7\n",
    "\n",
    "# almost no dependence of performance on hyperparameters\n",
    "#   what is the simplest network with a similar performance for MNIST dataset?\n",
    "#     use Bayesian optimization to find hyperparameters values\n",
    "#     explore the dynamic architecture - graph instead of layer"
   ]
  },
  {
   "cell_type": "code",
   "execution_count": 8,
   "metadata": {},
   "outputs": [],
   "source": [
    "from keras import regularizers\n",
    "\n",
    "# add L2 weights regularization\n",
    "# hyperparameter: regularization parameter\n",
    "reg_lambda = 0.01\n",
    "\n",
    "model_l2 = models.Sequential()\n",
    "# first hidden layer with input shape specified\n",
    "model_l2.add(layers.Dense(num_units[0], activation='relu', kernel_regularizer=regularizers.l2(reg_lambda),\n",
    "                          input_shape=(num_pixels,)))\n",
    "for i in range(1, num_hidden_layers):\n",
    "    model_l2.add(layers.Dense(num_units[i], activation='relu'), kernel_regularizer=regularizers.l2(reg_lambda))\n",
    "# output layer\n",
    "model_l2.add(layers.Dense(10, activation='softmax'))\n",
    "\n",
    "model_l2.compile(optimizer=optimizers.RMSprop(lr=learning_rate),\n",
    "                 loss=losses.categorical_crossentropy,\n",
    "                 metrics=[metrics.categorical_accuracy])"
   ]
  },
  {
   "cell_type": "code",
   "execution_count": 9,
   "metadata": {},
   "outputs": [
    {
     "name": "stdout",
     "output_type": "stream",
     "text": [
      "Train on 48000 samples, validate on 12000 samples\n",
      "Epoch 1/20\n",
      "48000/48000 [==============================] - 6s 116us/step - loss: 4.2124 - categorical_accuracy: 0.8251 - val_loss: 1.9507 - val_categorical_accuracy: 0.9006\n",
      "Epoch 2/20\n",
      "48000/48000 [==============================] - 5s 113us/step - loss: 1.2604 - categorical_accuracy: 0.9002 - val_loss: 0.8389 - val_categorical_accuracy: 0.9137\n",
      "Epoch 3/20\n",
      "48000/48000 [==============================] - 6s 116us/step - loss: 0.7086 - categorical_accuracy: 0.9110 - val_loss: 0.5775 - val_categorical_accuracy: 0.9219\n",
      "Epoch 4/20\n",
      "48000/48000 [==============================] - 5s 113us/step - loss: 0.5403 - categorical_accuracy: 0.9175 - val_loss: 0.4760 - val_categorical_accuracy: 0.9260\n",
      "Epoch 5/20\n",
      "48000/48000 [==============================] - 5s 111us/step - loss: 0.4657 - categorical_accuracy: 0.9227 - val_loss: 0.4250 - val_categorical_accuracy: 0.9297\n",
      "Epoch 6/20\n",
      "48000/48000 [==============================] - 5s 114us/step - loss: 0.4251 - categorical_accuracy: 0.9261 - val_loss: 0.3950 - val_categorical_accuracy: 0.9334\n",
      "Epoch 7/20\n",
      "48000/48000 [==============================] - 5s 114us/step - loss: 0.3986 - categorical_accuracy: 0.9302 - val_loss: 0.3777 - val_categorical_accuracy: 0.9343\n",
      "Epoch 8/20\n",
      "48000/48000 [==============================] - 5s 114us/step - loss: 0.3789 - categorical_accuracy: 0.9340 - val_loss: 0.3570 - val_categorical_accuracy: 0.9380\n",
      "Epoch 9/20\n",
      "48000/48000 [==============================] - 5s 114us/step - loss: 0.3626 - categorical_accuracy: 0.9369 - val_loss: 0.3424 - val_categorical_accuracy: 0.9432\n",
      "Epoch 10/20\n",
      "48000/48000 [==============================] - 5s 113us/step - loss: 0.3487 - categorical_accuracy: 0.9384 - val_loss: 0.3307 - val_categorical_accuracy: 0.9431\n",
      "Epoch 11/20\n",
      "48000/48000 [==============================] - 6s 129us/step - loss: 0.3366 - categorical_accuracy: 0.9408 - val_loss: 0.3203 - val_categorical_accuracy: 0.9466\n",
      "Epoch 12/20\n",
      "48000/48000 [==============================] - 6s 133us/step - loss: 0.3265 - categorical_accuracy: 0.9426 - val_loss: 0.3115 - val_categorical_accuracy: 0.9490\n",
      "Epoch 13/20\n",
      "48000/48000 [==============================] - 5s 114us/step - loss: 0.3164 - categorical_accuracy: 0.9447 - val_loss: 0.3036 - val_categorical_accuracy: 0.9492\n",
      "Epoch 14/20\n",
      "48000/48000 [==============================] - 6s 115us/step - loss: 0.3080 - categorical_accuracy: 0.9464 - val_loss: 0.2975 - val_categorical_accuracy: 0.9511\n",
      "Epoch 15/20\n",
      "48000/48000 [==============================] - 5s 114us/step - loss: 0.2999 - categorical_accuracy: 0.9481 - val_loss: 0.2887 - val_categorical_accuracy: 0.9523\n",
      "Epoch 16/20\n",
      "48000/48000 [==============================] - 5s 114us/step - loss: 0.2925 - categorical_accuracy: 0.9484 - val_loss: 0.2836 - val_categorical_accuracy: 0.9541\n",
      "Epoch 17/20\n",
      "48000/48000 [==============================] - 5s 114us/step - loss: 0.2857 - categorical_accuracy: 0.9493 - val_loss: 0.2785 - val_categorical_accuracy: 0.9548\n",
      "Epoch 18/20\n",
      "48000/48000 [==============================] - 5s 114us/step - loss: 0.2788 - categorical_accuracy: 0.9521 - val_loss: 0.2758 - val_categorical_accuracy: 0.9527\n",
      "Epoch 19/20\n",
      "48000/48000 [==============================] - 5s 114us/step - loss: 0.2729 - categorical_accuracy: 0.9525 - val_loss: 0.2663 - val_categorical_accuracy: 0.9547\n",
      "Epoch 20/20\n",
      "48000/48000 [==============================] - 6s 116us/step - loss: 0.2676 - categorical_accuracy: 0.9540 - val_loss: 0.2604 - val_categorical_accuracy: 0.9558\n"
     ]
    }
   ],
   "source": [
    "history_l2 = model_l2.fit(x_train, y_train, epochs=num_epochs, batch_size=128, validation_split=0.2).history"
   ]
  },
  {
   "cell_type": "code",
   "execution_count": 10,
   "metadata": {},
   "outputs": [
    {
     "name": "stdout",
     "output_type": "stream",
     "text": [
      "10000/10000 [==============================] - 1s 94us/step\n",
      "test data accuracy: 0.9547\n"
     ]
    }
   ],
   "source": [
    "_, test_accuracy = model_l2.evaluate(x_test, y_test)\n",
    "print('test data accuracy: {}'.format(test_accuracy))"
   ]
  },
  {
   "cell_type": "code",
   "execution_count": 11,
   "metadata": {},
   "outputs": [],
   "source": [
    "# add dropout regularization\n",
    "# hyperparameter: dropout rate(s)\n",
    "rate = 0.5\n",
    "\n",
    "model_dropout = models.Sequential()\n",
    "# first hidden layer with input shape specified\n",
    "model_dropout.add(layers.Dense(num_units[0], activation='relu', input_shape=(num_pixels,)))\n",
    "model_dropout.add(layers.Dropout(rate))\n",
    "for i in range(1, num_hidden_layers):\n",
    "    model_dropout.add(layers.Dense(num_units[i], activation='relu'))\n",
    "    model_dropout.add(layers.Dropout(rate))\n",
    "# output layer\n",
    "model_dropout.add(layers.Dense(10, activation='softmax'))\n",
    "\n",
    "model_dropout.compile(optimizer=optimizers.RMSprop(lr=learning_rate),\n",
    "                      loss=losses.categorical_crossentropy,\n",
    "                      metrics=[metrics.categorical_accuracy])"
   ]
  },
  {
   "cell_type": "code",
   "execution_count": 12,
   "metadata": {},
   "outputs": [
    {
     "name": "stdout",
     "output_type": "stream",
     "text": [
      "Train on 48000 samples, validate on 12000 samples\n",
      "Epoch 1/20\n",
      "48000/48000 [==============================] - 5s 111us/step - loss: 0.8786 - categorical_accuracy: 0.7607 - val_loss: 0.3814 - val_categorical_accuracy: 0.9043\n",
      "Epoch 2/20\n",
      "48000/48000 [==============================] - 5s 107us/step - loss: 0.4013 - categorical_accuracy: 0.8878 - val_loss: 0.2849 - val_categorical_accuracy: 0.9238\n",
      "Epoch 3/20\n",
      "48000/48000 [==============================] - 5s 111us/step - loss: 0.3243 - categorical_accuracy: 0.9083 - val_loss: 0.2440 - val_categorical_accuracy: 0.9341\n",
      "Epoch 4/20\n",
      "48000/48000 [==============================] - 6s 115us/step - loss: 0.2787 - categorical_accuracy: 0.9205 - val_loss: 0.2192 - val_categorical_accuracy: 0.9407\n",
      "Epoch 5/20\n",
      "48000/48000 [==============================] - 6s 121us/step - loss: 0.2488 - categorical_accuracy: 0.9295 - val_loss: 0.2009 - val_categorical_accuracy: 0.9447\n",
      "Epoch 6/20\n",
      "48000/48000 [==============================] - 6s 124us/step - loss: 0.2263 - categorical_accuracy: 0.9356 - val_loss: 0.1838 - val_categorical_accuracy: 0.9501\n",
      "Epoch 7/20\n",
      "48000/48000 [==============================] - 5s 114us/step - loss: 0.2086 - categorical_accuracy: 0.9395 - val_loss: 0.1721 - val_categorical_accuracy: 0.9530\n",
      "Epoch 8/20\n",
      "48000/48000 [==============================] - 6s 131us/step - loss: 0.1929 - categorical_accuracy: 0.9442 - val_loss: 0.1619 - val_categorical_accuracy: 0.9543\n",
      "Epoch 9/20\n",
      "48000/48000 [==============================] - 5s 115us/step - loss: 0.1809 - categorical_accuracy: 0.9472 - val_loss: 0.1528 - val_categorical_accuracy: 0.9577\n",
      "Epoch 10/20\n",
      "48000/48000 [==============================] - 5s 114us/step - loss: 0.1706 - categorical_accuracy: 0.9504 - val_loss: 0.1468 - val_categorical_accuracy: 0.9587\n",
      "Epoch 11/20\n",
      "48000/48000 [==============================] - 5s 114us/step - loss: 0.1613 - categorical_accuracy: 0.9533 - val_loss: 0.1395 - val_categorical_accuracy: 0.9610\n",
      "Epoch 12/20\n",
      "48000/48000 [==============================] - 5s 112us/step - loss: 0.1515 - categorical_accuracy: 0.9561 - val_loss: 0.1344 - val_categorical_accuracy: 0.9616\n",
      "Epoch 13/20\n",
      "48000/48000 [==============================] - 6s 116us/step - loss: 0.1453 - categorical_accuracy: 0.9575 - val_loss: 0.1298 - val_categorical_accuracy: 0.9622\n",
      "Epoch 14/20\n",
      "48000/48000 [==============================] - 6s 115us/step - loss: 0.1386 - categorical_accuracy: 0.9599 - val_loss: 0.1257 - val_categorical_accuracy: 0.9629\n",
      "Epoch 15/20\n",
      "48000/48000 [==============================] - 5s 114us/step - loss: 0.1317 - categorical_accuracy: 0.9613 - val_loss: 0.1223 - val_categorical_accuracy: 0.9634\n",
      "Epoch 16/20\n",
      "48000/48000 [==============================] - 5s 114us/step - loss: 0.1281 - categorical_accuracy: 0.9635 - val_loss: 0.1183 - val_categorical_accuracy: 0.9652\n",
      "Epoch 17/20\n",
      "48000/48000 [==============================] - 6s 116us/step - loss: 0.1218 - categorical_accuracy: 0.9653 - val_loss: 0.1157 - val_categorical_accuracy: 0.9662\n",
      "Epoch 18/20\n",
      "48000/48000 [==============================] - 6s 115us/step - loss: 0.1191 - categorical_accuracy: 0.9656 - val_loss: 0.1130 - val_categorical_accuracy: 0.9679\n",
      "Epoch 19/20\n",
      "48000/48000 [==============================] - 6s 116us/step - loss: 0.1153 - categorical_accuracy: 0.9667 - val_loss: 0.1097 - val_categorical_accuracy: 0.9677\n",
      "Epoch 20/20\n",
      "48000/48000 [==============================] - 6s 115us/step - loss: 0.1099 - categorical_accuracy: 0.9680 - val_loss: 0.1083 - val_categorical_accuracy: 0.9679\n"
     ]
    }
   ],
   "source": [
    "history_dropout = model_dropout.fit(x_train, y_train, epochs=num_epochs, batch_size=128, validation_split=0.2).history"
   ]
  },
  {
   "cell_type": "code",
   "execution_count": 13,
   "metadata": {},
   "outputs": [
    {
     "name": "stdout",
     "output_type": "stream",
     "text": [
      "10000/10000 [==============================] - 1s 67us/step\n",
      "test data accuracy: 0.9703\n"
     ]
    }
   ],
   "source": [
    "_, test_accuracy = model_dropout.evaluate(x_test, y_test)\n",
    "print('test data accuracy: {}'.format(test_accuracy))"
   ]
  },
  {
   "cell_type": "code",
   "execution_count": 14,
   "metadata": {},
   "outputs": [
    {
     "data": {
      "image/png": "[encoded data removed]",
      "text/plain": [
       "<Figure size 432x288 with 1 Axes>"
      ]
     },
     "metadata": {},
     "output_type": "display_data"
    }
   ],
   "source": [
    "x = range(1, num_epochs + 1)\n",
    "\n",
    "viz.plot(x, history['loss'], 'bo', label='training loss')\n",
    "viz.plot(x, history['val_loss'], 'b+', label='validation loss')\n",
    "viz.plot(x, history_l2['loss'], 'ro', label='training loss, L2 regularized')\n",
    "viz.plot(x, history_l2['val_loss'], 'r+', label='validation loss, l2 regularized')\n",
    "viz.plot(x, history_dropout['loss'], 'go', label='training loss, dropout')\n",
    "viz.plot(x, history_dropout['val_loss'], 'g+', label='validation loss, dropout')\n",
    "viz.title('training and validation loss')\n",
    "viz.xlabel('epochs')\n",
    "viz.ylabel('loss')\n",
    "viz.legend()\n",
    "viz.show()"
   ]
  },
  {
   "cell_type": "code",
   "execution_count": 15,
   "metadata": {},
   "outputs": [
    {
     "data": {
      "image/png": "[encoded data removed]",
      "text/plain": [
       "<Figure size 432x288 with 1 Axes>"
      ]
     },
     "metadata": {},
     "output_type": "display_data"
    }
   ],
   "source": [
    "viz.plot(x, history['categorical_accuracy'], 'bo', label='training accuracy')\n",
    "viz.plot(x, history['val_categorical_accuracy'], 'b+', label='validation accuracy')\n",
    "viz.plot(x, history_l2['categorical_accuracy'], 'ro', label='training accuracy, L2 regularized')\n",
    "viz.plot(x, history_l2['val_categorical_accuracy'], 'r+', label='validation accuracy, l2 regularized')\n",
    "viz.plot(x, history_dropout['categorical_accuracy'], 'go', label='training accuracy, dropout')\n",
    "viz.plot(x, history_dropout['val_categorical_accuracy'], 'g+', label='validation accuracy, dropout')\n",
    "viz.title('training and validation accuracy')\n",
    "viz.xlabel('epochs')\n",
    "viz.ylabel('accuracy')\n",
    "viz.legend()\n",
    "viz.show()"
   ]
  },
  {
   "cell_type": "code",
   "execution_count": 16,
   "metadata": {},
   "outputs": [],
   "source": [
    "#convnet version\n",
    "\n",
    "# 1 channel in input images\n",
    "x_train_imgs = train_data.reshape((num_train_images, width, height, 1)).astype('float32') / 255\n",
    "x_test_imgs = test_data.reshape((num_test_images, width, height, 1)).astype('float32') / 255\n",
    "\n",
    "model_convnet = models.Sequential()\n",
    "model_convnet.add(layers.Conv2D(32, (3, 3), activation='relu', input_shape=(width, height, 1)))\n",
    "model_convnet.add(layers.MaxPooling2D((2, 2)))\n",
    "model_convnet.add(layers.Conv2D(64, (3, 3), activation='relu'))\n",
    "model_convnet.add(layers.MaxPooling2D((2, 2)))\n",
    "model_convnet.add(layers.Conv2D(64, (3, 3), activation='relu'))\n",
    "model_convnet.add(layers.Flatten())\n",
    "model_convnet.add(layers.Dense(64, activation='relu'))\n",
    "model_convnet.add(layers.Dense(10, activation='softmax'))\n",
    "\n",
    "model_convnet.compile(optimizer=optimizers.RMSprop(lr=learning_rate),\n",
    "                      loss=losses.categorical_crossentropy,\n",
    "                      metrics=[metrics.categorical_accuracy])"
   ]
  },
  {
   "cell_type": "code",
   "execution_count": 18,
   "metadata": {},
   "outputs": [
    {
     "name": "stdout",
     "output_type": "stream",
     "text": [
      "Train on 48000 samples, validate on 12000 samples\n",
      "Epoch 1/20\n",
      "48000/48000 [==============================] - 52s 1ms/step - loss: 0.6844 - categorical_accuracy: 0.8248 - val_loss: 0.2337 - val_categorical_accuracy: 0.9325\n",
      "Epoch 2/20\n",
      "48000/48000 [==============================] - 53s 1ms/step - loss: 0.1974 - categorical_accuracy: 0.9419 - val_loss: 0.1445 - val_categorical_accuracy: 0.9595\n",
      "Epoch 3/20\n",
      "48000/48000 [==============================] - 52s 1ms/step - loss: 0.1312 - categorical_accuracy: 0.9604 - val_loss: 0.1035 - val_categorical_accuracy: 0.9709\n",
      "Epoch 4/20\n",
      "48000/48000 [==============================] - 52s 1ms/step - loss: 0.1019 - categorical_accuracy: 0.9696 - val_loss: 0.0843 - val_categorical_accuracy: 0.9762\n",
      "Epoch 5/20\n",
      "48000/48000 [==============================] - 52s 1ms/step - loss: 0.0867 - categorical_accuracy: 0.9737 - val_loss: 0.0762 - val_categorical_accuracy: 0.9781\n",
      "Epoch 6/20\n",
      "48000/48000 [==============================] - 52s 1ms/step - loss: 0.0760 - categorical_accuracy: 0.9771 - val_loss: 0.0732 - val_categorical_accuracy: 0.9783\n",
      "Epoch 7/20\n",
      "48000/48000 [==============================] - 53s 1ms/step - loss: 0.0678 - categorical_accuracy: 0.9791 - val_loss: 0.0655 - val_categorical_accuracy: 0.9798\n",
      "Epoch 8/20\n",
      "48000/48000 [==============================] - 54s 1ms/step - loss: 0.0612 - categorical_accuracy: 0.9816 - val_loss: 0.0712 - val_categorical_accuracy: 0.9778\n",
      "Epoch 9/20\n",
      "48000/48000 [==============================] - 54s 1ms/step - loss: 0.0563 - categorical_accuracy: 0.9827 - val_loss: 0.0630 - val_categorical_accuracy: 0.9802\n",
      "Epoch 10/20\n",
      "48000/48000 [==============================] - 55s 1ms/step - loss: 0.0513 - categorical_accuracy: 0.9841 - val_loss: 0.0605 - val_categorical_accuracy: 0.9811\n",
      "Epoch 11/20\n",
      "48000/48000 [==============================] - 55s 1ms/step - loss: 0.0472 - categorical_accuracy: 0.9855 - val_loss: 0.0539 - val_categorical_accuracy: 0.9838\n",
      "Epoch 12/20\n",
      "48000/48000 [==============================] - 55s 1ms/step - loss: 0.0438 - categorical_accuracy: 0.9865 - val_loss: 0.0570 - val_categorical_accuracy: 0.9833\n",
      "Epoch 13/20\n",
      "48000/48000 [==============================] - 55s 1ms/step - loss: 0.0407 - categorical_accuracy: 0.9873 - val_loss: 0.0530 - val_categorical_accuracy: 0.9839\n",
      "Epoch 14/20\n",
      "48000/48000 [==============================] - 55s 1ms/step - loss: 0.0388 - categorical_accuracy: 0.9883 - val_loss: 0.0486 - val_categorical_accuracy: 0.9864\n",
      "Epoch 15/20\n",
      "48000/48000 [==============================] - 55s 1ms/step - loss: 0.0362 - categorical_accuracy: 0.9888 - val_loss: 0.0499 - val_categorical_accuracy: 0.9848\n",
      "Epoch 16/20\n",
      "48000/48000 [==============================] - 45s 929us/step - loss: 0.0335 - categorical_accuracy: 0.9897 - val_loss: 0.0443 - val_categorical_accuracy: 0.9874\n",
      "Epoch 17/20\n",
      "48000/48000 [==============================] - 38s 786us/step - loss: 0.0316 - categorical_accuracy: 0.9901 - val_loss: 0.0493 - val_categorical_accuracy: 0.9855\n",
      "Epoch 18/20\n",
      "48000/48000 [==============================] - 38s 788us/step - loss: 0.0301 - categorical_accuracy: 0.9904 - val_loss: 0.0442 - val_categorical_accuracy: 0.9868\n",
      "Epoch 19/20\n",
      "48000/48000 [==============================] - 38s 796us/step - loss: 0.0284 - categorical_accuracy: 0.9915 - val_loss: 0.0462 - val_categorical_accuracy: 0.9868\n",
      "Epoch 20/20\n",
      "48000/48000 [==============================] - 41s 858us/step - loss: 0.0266 - categorical_accuracy: 0.9917 - val_loss: 0.0436 - val_categorical_accuracy: 0.9878\n"
     ]
    }
   ],
   "source": [
    "history_convnet = model_convnet.fit(x_train_imgs, y_train, epochs=num_epochs, batch_size=64, validation_split=0.2).history"
   ]
  },
  {
   "cell_type": "code",
   "execution_count": 19,
   "metadata": {},
   "outputs": [
    {
     "name": "stdout",
     "output_type": "stream",
     "text": [
      "10000/10000 [==============================] - 3s 334us/step\n",
      "test data accuracy: 0.99\n"
     ]
    }
   ],
   "source": [
    "_, test_accuracy = model_convnet.evaluate(x_test_imgs, y_test)\n",
    "print('test data accuracy: {}'.format(test_accuracy))"
   ]
  },
  {
   "cell_type": "code",
   "execution_count": 20,
   "metadata": {},
   "outputs": [
    {
     "data": {
      "image/png": "[encoded data removed]",
      "text/plain": [
       "<Figure size 432x288 with 1 Axes>"
      ]
     },
     "metadata": {},
     "output_type": "display_data"
    }
   ],
   "source": [
    "x = range(1, num_epochs + 1)\n",
    "\n",
    "viz.plot(x, history_convnet['loss'], 'bo', label='training loss')\n",
    "viz.plot(x, history_convnet['val_loss'], 'b+', label='validation loss')\n",
    "viz.title('training and validation loss')\n",
    "viz.xlabel('epochs')\n",
    "viz.ylabel('loss')\n",
    "viz.legend()\n",
    "viz.show()"
   ]
  },
  {
   "cell_type": "code",
   "execution_count": 21,
   "metadata": {},
   "outputs": [
    {
     "data": {
      "image/png": "[encoded data removed]",
      "text/plain": [
       "<Figure size 432x288 with 1 Axes>"
      ]
     },
     "metadata": {},
     "output_type": "display_data"
    }
   ],
   "source": [
    "viz.plot(x, history_convnet['categorical_accuracy'], 'bo', label='training accuracy')\n",
    "viz.plot(x, history_convnet['val_categorical_accuracy'], 'b+', label='validation accuracy')\n",
    "viz.title('training and validation accuracy')\n",
    "viz.xlabel('epochs')\n",
    "viz.ylabel('accuracy')\n",
    "viz.legend()\n",
    "viz.show()"
   ]
  },
  {
   "cell_type": "code",
   "execution_count": null,
   "metadata": {},
   "outputs": [],
   "source": []
  }
 ],
 "metadata": {
  "kernelspec": {
   "display_name": "Python 3",
   "language": "python",
   "name": "python3"
  },
  "language_info": {
   "codemirror_mode": {
    "name": "ipython",
    "version": 3
   },
   "file_extension": ".py",
   "mimetype": "text/x-python",
   "name": "python",
   "nbconvert_exporter": "python",
   "pygments_lexer": "ipython3",
   "version": "3.6.6"
  }
 },
 "nbformat": 4,
 "nbformat_minor": 2
}
