{
 "cells": [
  {
   "cell_type": "code",
   "execution_count": 1,
   "metadata": {},
   "outputs": [
    {
     "name": "stderr",
     "output_type": "stream",
     "text": [
      "Using TensorFlow backend.\n"
     ]
    }
   ],
   "source": [
    "from keras import models, layers, optimizers, losses, metrics\n",
    "from keras.preprocessing.image import ImageDataGenerator\n",
    "from keras.applications import VGG16\n",
    "import matplotlib.pyplot as viz"
   ]
  },
  {
   "cell_type": "code",
   "execution_count": 11,
   "metadata": {},
   "outputs": [
    {
     "name": "stdout",
     "output_type": "stream",
     "text": [
      "_________________________________________________________________\n",
      "Layer (type)                 Output Shape              Param #   \n",
      "=================================================================\n",
      "input_2 (InputLayer)         (None, 150, 150, 3)       0         \n",
      "_________________________________________________________________\n",
      "block1_conv1 (Conv2D)        (None, 150, 150, 64)      1792      \n",
      "_________________________________________________________________\n",
      "block1_conv2 (Conv2D)        (None, 150, 150, 64)      36928     \n",
      "_________________________________________________________________\n",
      "block1_pool (MaxPooling2D)   (None, 75, 75, 64)        0         \n",
      "_________________________________________________________________\n",
      "block2_conv1 (Conv2D)        (None, 75, 75, 128)       73856     \n",
      "_________________________________________________________________\n",
      "block2_conv2 (Conv2D)        (None, 75, 75, 128)       147584    \n",
      "_________________________________________________________________\n",
      "block2_pool (MaxPooling2D)   (None, 37, 37, 128)       0         \n",
      "_________________________________________________________________\n",
      "block3_conv1 (Conv2D)        (None, 37, 37, 256)       295168    \n",
      "_________________________________________________________________\n",
      "block3_conv2 (Conv2D)        (None, 37, 37, 256)       590080    \n",
      "_________________________________________________________________\n",
      "block3_conv3 (Conv2D)        (None, 37, 37, 256)       590080    \n",
      "_________________________________________________________________\n",
      "block3_pool (MaxPooling2D)   (None, 18, 18, 256)       0         \n",
      "_________________________________________________________________\n",
      "block4_conv1 (Conv2D)        (None, 18, 18, 512)       1180160   \n",
      "_________________________________________________________________\n",
      "block4_conv2 (Conv2D)        (None, 18, 18, 512)       2359808   \n",
      "_________________________________________________________________\n",
      "block4_conv3 (Conv2D)        (None, 18, 18, 512)       2359808   \n",
      "_________________________________________________________________\n",
      "block4_pool (MaxPooling2D)   (None, 9, 9, 512)         0         \n",
      "_________________________________________________________________\n",
      "block5_conv1 (Conv2D)        (None, 9, 9, 512)         2359808   \n",
      "_________________________________________________________________\n",
      "block5_conv2 (Conv2D)        (None, 9, 9, 512)         2359808   \n",
      "_________________________________________________________________\n",
      "block5_conv3 (Conv2D)        (None, 9, 9, 512)         2359808   \n",
      "_________________________________________________________________\n",
      "block5_pool (MaxPooling2D)   (None, 4, 4, 512)         0         \n",
      "=================================================================\n",
      "Total params: 14,714,688\n",
      "Trainable params: 14,714,688\n",
      "Non-trainable params: 0\n",
      "_________________________________________________________________\n"
     ]
    }
   ],
   "source": [
    "width = 150\n",
    "height = 150\n",
    "rgb = 3\n",
    "conv_base = VGG16(weights='imagenet', include_top=False, input_shape=(width, height, rgb))\n",
    "conv_base.summary()"
   ]
  },
  {
   "cell_type": "code",
   "execution_count": 12,
   "metadata": {},
   "outputs": [],
   "source": [
    "import os\n",
    "\n",
    "base_dir = '.data/cats_vs_dogs_small'\n",
    "train_dir = os.path.join(base_dir, 'train')\n",
    "validation_dir = os.path.join(base_dir, 'validation')\n",
    "test_dir = os.path.join(base_dir, 'test')"
   ]
  },
  {
   "cell_type": "code",
   "execution_count": 13,
   "metadata": {},
   "outputs": [
    {
     "name": "stdout",
     "output_type": "stream",
     "text": [
      "_________________________________________________________________\n",
      "Layer (type)                 Output Shape              Param #   \n",
      "=================================================================\n",
      "vgg16 (Model)                (None, 4, 4, 512)         14714688  \n",
      "_________________________________________________________________\n",
      "flatten_2 (Flatten)          (None, 8192)              0         \n",
      "_________________________________________________________________\n",
      "dense_3 (Dense)              (None, 256)               2097408   \n",
      "_________________________________________________________________\n",
      "dense_4 (Dense)              (None, 1)                 257       \n",
      "=================================================================\n",
      "Total params: 16,812,353\n",
      "Trainable params: 16,812,353\n",
      "Non-trainable params: 0\n",
      "_________________________________________________________________\n"
     ]
    }
   ],
   "source": [
    "network = models.Sequential()\n",
    "network.add(conv_base)\n",
    "network.add(layers.Flatten())\n",
    "network.add(layers.Dense(256, activation='relu'))\n",
    "network.add(layers.Dense(1, activation='sigmoid'))\n",
    "network.summary()"
   ]
  },
  {
   "cell_type": "code",
   "execution_count": 14,
   "metadata": {},
   "outputs": [
    {
     "name": "stdout",
     "output_type": "stream",
     "text": [
      "trainable weight tensors before freezing conv_base: 30\n",
      "trainable weight tensors with conv_base frozen: 4\n"
     ]
    }
   ],
   "source": [
    "print('trainable weight tensors before freezing conv_base: {}'.format(len(network.trainable_weights)))\n",
    "conv_base.trainable = False\n",
    "print('trainable weight tensors with conv_base frozen: {}'.format(len(network.trainable_weights)))"
   ]
  },
  {
   "cell_type": "code",
   "execution_count": 15,
   "metadata": {},
   "outputs": [],
   "source": [
    "network.compile(optimizer=optimizers.RMSprop(lr=2e-5),\n",
    "                loss=losses.binary_crossentropy,\n",
    "                metrics=[metrics.binary_accuracy])"
   ]
  },
  {
   "cell_type": "code",
   "execution_count": 16,
   "metadata": {},
   "outputs": [
    {
     "name": "stdout",
     "output_type": "stream",
     "text": [
      "Found 2000 images belonging to 2 classes.\n",
      "Found 1000 images belonging to 2 classes.\n"
     ]
    }
   ],
   "source": [
    "rescale_factor = 1.0 / 255\n",
    "batch_size = 20\n",
    "\n",
    "train_data_generator = ImageDataGenerator(rescale=rescale_factor,\n",
    "                                          rotation_range=40,\n",
    "                                          width_shift_range=0.2,\n",
    "                                          height_shift_range=0.2,\n",
    "                                          shear_range=0.2,\n",
    "                                          zoom_range=0.2,\n",
    "                                          horizontal_flip=True,\n",
    "                                          fill_mode='nearest')\n",
    "validation_data_generator = ImageDataGenerator(rescale=rescale_factor)\n",
    "\n",
    "train_stream = train_data_generator.flow_from_directory(train_dir, target_size=(width, height),\n",
    "                                                        batch_size=batch_size, class_mode='binary')\n",
    "\n",
    "validation_stream = validation_data_generator.flow_from_directory(validation_dir, target_size=(width, height),\n",
    "                                                                  batch_size=batch_size, class_mode='binary')"
   ]
  },
  {
   "cell_type": "code",
   "execution_count": 17,
   "metadata": {},
   "outputs": [
    {
     "name": "stdout",
     "output_type": "stream",
     "text": [
      "Epoch 1/100\n",
      "100/100 [==============================] - 14s 143ms/step - loss: 0.5823 - binary_accuracy: 0.7100 - val_loss: 0.4509 - val_binary_accuracy: 0.8170\n",
      "Epoch 2/100\n",
      "100/100 [==============================] - 13s 130ms/step - loss: 0.4774 - binary_accuracy: 0.7930 - val_loss: 0.3620 - val_binary_accuracy: 0.8610\n",
      "Epoch 3/100\n",
      "100/100 [==============================] - 13s 130ms/step - loss: 0.4292 - binary_accuracy: 0.8115 - val_loss: 0.3240 - val_binary_accuracy: 0.8860\n",
      "Epoch 4/100\n",
      "100/100 [==============================] - 13s 130ms/step - loss: 0.3959 - binary_accuracy: 0.8320 - val_loss: 0.3012 - val_binary_accuracy: 0.8790\n",
      "Epoch 5/100\n",
      "100/100 [==============================] - 13s 129ms/step - loss: 0.3816 - binary_accuracy: 0.8390 - val_loss: 0.2830 - val_binary_accuracy: 0.8970\n",
      "Epoch 6/100\n",
      "100/100 [==============================] - 13s 130ms/step - loss: 0.3730 - binary_accuracy: 0.8390 - val_loss: 0.3022 - val_binary_accuracy: 0.8780\n",
      "Epoch 7/100\n",
      "100/100 [==============================] - 13s 130ms/step - loss: 0.3505 - binary_accuracy: 0.8500 - val_loss: 0.2677 - val_binary_accuracy: 0.8980\n",
      "Epoch 8/100\n",
      "100/100 [==============================] - 13s 130ms/step - loss: 0.3574 - binary_accuracy: 0.8490 - val_loss: 0.2668 - val_binary_accuracy: 0.8910\n",
      "Epoch 9/100\n",
      "100/100 [==============================] - 13s 130ms/step - loss: 0.3402 - binary_accuracy: 0.8655 - val_loss: 0.2620 - val_binary_accuracy: 0.9010\n",
      "Epoch 10/100\n",
      "100/100 [==============================] - 13s 130ms/step - loss: 0.3357 - binary_accuracy: 0.8550 - val_loss: 0.2619 - val_binary_accuracy: 0.9000\n",
      "Epoch 11/100\n",
      "100/100 [==============================] - 13s 130ms/step - loss: 0.3376 - binary_accuracy: 0.8555 - val_loss: 0.2521 - val_binary_accuracy: 0.9020\n",
      "Epoch 12/100\n",
      "100/100 [==============================] - 13s 130ms/step - loss: 0.3203 - binary_accuracy: 0.8495 - val_loss: 0.2509 - val_binary_accuracy: 0.9070\n",
      "Epoch 13/100\n",
      "100/100 [==============================] - 13s 130ms/step - loss: 0.3173 - binary_accuracy: 0.8650 - val_loss: 0.2549 - val_binary_accuracy: 0.8960\n",
      "Epoch 14/100\n",
      "100/100 [==============================] - 13s 130ms/step - loss: 0.3299 - binary_accuracy: 0.8570 - val_loss: 0.2496 - val_binary_accuracy: 0.8990\n",
      "Epoch 15/100\n",
      "100/100 [==============================] - 13s 130ms/step - loss: 0.3053 - binary_accuracy: 0.8680 - val_loss: 0.2565 - val_binary_accuracy: 0.8950\n",
      "Epoch 16/100\n",
      "100/100 [==============================] - 13s 130ms/step - loss: 0.3219 - binary_accuracy: 0.8570 - val_loss: 0.2412 - val_binary_accuracy: 0.9120\n",
      "Epoch 17/100\n",
      "100/100 [==============================] - 13s 130ms/step - loss: 0.3114 - binary_accuracy: 0.8700 - val_loss: 0.2437 - val_binary_accuracy: 0.9020\n",
      "Epoch 18/100\n",
      "100/100 [==============================] - 13s 130ms/step - loss: 0.3079 - binary_accuracy: 0.8685 - val_loss: 0.2409 - val_binary_accuracy: 0.9080\n",
      "Epoch 19/100\n",
      "100/100 [==============================] - 13s 130ms/step - loss: 0.3016 - binary_accuracy: 0.8675 - val_loss: 0.2435 - val_binary_accuracy: 0.9000\n",
      "Epoch 20/100\n",
      "100/100 [==============================] - 13s 130ms/step - loss: 0.3033 - binary_accuracy: 0.8585 - val_loss: 0.2401 - val_binary_accuracy: 0.9060\n",
      "Epoch 21/100\n",
      "100/100 [==============================] - 13s 130ms/step - loss: 0.3103 - binary_accuracy: 0.8645 - val_loss: 0.2423 - val_binary_accuracy: 0.8990\n",
      "Epoch 22/100\n",
      "100/100 [==============================] - 13s 131ms/step - loss: 0.2896 - binary_accuracy: 0.8780 - val_loss: 0.2423 - val_binary_accuracy: 0.9050\n",
      "Epoch 23/100\n",
      "100/100 [==============================] - 13s 130ms/step - loss: 0.2903 - binary_accuracy: 0.8795 - val_loss: 0.2415 - val_binary_accuracy: 0.9060\n",
      "Epoch 24/100\n",
      "100/100 [==============================] - 13s 130ms/step - loss: 0.2951 - binary_accuracy: 0.8790 - val_loss: 0.2432 - val_binary_accuracy: 0.9080\n",
      "Epoch 25/100\n",
      "100/100 [==============================] - 13s 130ms/step - loss: 0.2900 - binary_accuracy: 0.8755 - val_loss: 0.2396 - val_binary_accuracy: 0.9080\n",
      "Epoch 26/100\n",
      "100/100 [==============================] - 13s 130ms/step - loss: 0.2910 - binary_accuracy: 0.8725 - val_loss: 0.2389 - val_binary_accuracy: 0.9110\n",
      "Epoch 27/100\n",
      "100/100 [==============================] - 13s 130ms/step - loss: 0.2794 - binary_accuracy: 0.8805 - val_loss: 0.2461 - val_binary_accuracy: 0.9010\n",
      "Epoch 28/100\n",
      "100/100 [==============================] - 13s 130ms/step - loss: 0.2926 - binary_accuracy: 0.8755 - val_loss: 0.2433 - val_binary_accuracy: 0.8900\n",
      "Epoch 29/100\n",
      "100/100 [==============================] - 13s 131ms/step - loss: 0.2786 - binary_accuracy: 0.8835 - val_loss: 0.2407 - val_binary_accuracy: 0.9100\n",
      "Epoch 30/100\n",
      "100/100 [==============================] - 13s 129ms/step - loss: 0.2747 - binary_accuracy: 0.8850 - val_loss: 0.2366 - val_binary_accuracy: 0.9090\n",
      "Epoch 31/100\n",
      "100/100 [==============================] - 13s 131ms/step - loss: 0.2804 - binary_accuracy: 0.8795 - val_loss: 0.2360 - val_binary_accuracy: 0.9100\n",
      "Epoch 32/100\n",
      "100/100 [==============================] - 13s 130ms/step - loss: 0.2907 - binary_accuracy: 0.8755 - val_loss: 0.2373 - val_binary_accuracy: 0.9070\n",
      "Epoch 33/100\n",
      "100/100 [==============================] - 13s 130ms/step - loss: 0.2645 - binary_accuracy: 0.8945 - val_loss: 0.2386 - val_binary_accuracy: 0.9040\n",
      "Epoch 34/100\n",
      "100/100 [==============================] - 13s 130ms/step - loss: 0.2819 - binary_accuracy: 0.8745 - val_loss: 0.2369 - val_binary_accuracy: 0.9070\n",
      "Epoch 35/100\n",
      "100/100 [==============================] - 13s 130ms/step - loss: 0.2862 - binary_accuracy: 0.8720 - val_loss: 0.2392 - val_binary_accuracy: 0.9080\n",
      "Epoch 36/100\n",
      "100/100 [==============================] - 13s 129ms/step - loss: 0.2760 - binary_accuracy: 0.8785 - val_loss: 0.2346 - val_binary_accuracy: 0.9120\n",
      "Epoch 37/100\n",
      "100/100 [==============================] - 13s 130ms/step - loss: 0.2765 - binary_accuracy: 0.8715 - val_loss: 0.2407 - val_binary_accuracy: 0.8970\n",
      "Epoch 38/100\n",
      "100/100 [==============================] - 13s 130ms/step - loss: 0.2778 - binary_accuracy: 0.8840 - val_loss: 0.2387 - val_binary_accuracy: 0.9120\n",
      "Epoch 39/100\n",
      "100/100 [==============================] - 13s 130ms/step - loss: 0.2741 - binary_accuracy: 0.8870 - val_loss: 0.2362 - val_binary_accuracy: 0.9110\n",
      "Epoch 40/100\n",
      "100/100 [==============================] - 13s 131ms/step - loss: 0.2645 - binary_accuracy: 0.8920 - val_loss: 0.2431 - val_binary_accuracy: 0.9000\n",
      "Epoch 41/100\n",
      "100/100 [==============================] - 13s 130ms/step - loss: 0.2620 - binary_accuracy: 0.8870 - val_loss: 0.2459 - val_binary_accuracy: 0.9100\n",
      "Epoch 42/100\n",
      "100/100 [==============================] - 13s 130ms/step - loss: 0.2701 - binary_accuracy: 0.8815 - val_loss: 0.2538 - val_binary_accuracy: 0.8910\n",
      "Epoch 43/100\n",
      "100/100 [==============================] - 13s 130ms/step - loss: 0.2628 - binary_accuracy: 0.8920 - val_loss: 0.2421 - val_binary_accuracy: 0.9100\n",
      "Epoch 44/100\n",
      "100/100 [==============================] - 13s 130ms/step - loss: 0.2626 - binary_accuracy: 0.8930 - val_loss: 0.2391 - val_binary_accuracy: 0.9080\n",
      "Epoch 45/100\n",
      "100/100 [==============================] - 13s 130ms/step - loss: 0.2710 - binary_accuracy: 0.8790 - val_loss: 0.2414 - val_binary_accuracy: 0.9010\n",
      "Epoch 46/100\n",
      "100/100 [==============================] - 13s 130ms/step - loss: 0.2734 - binary_accuracy: 0.8840 - val_loss: 0.2463 - val_binary_accuracy: 0.8980\n",
      "Epoch 47/100\n",
      "100/100 [==============================] - 13s 130ms/step - loss: 0.2529 - binary_accuracy: 0.8910 - val_loss: 0.2497 - val_binary_accuracy: 0.8940\n",
      "Epoch 48/100\n",
      "100/100 [==============================] - 13s 130ms/step - loss: 0.2668 - binary_accuracy: 0.8875 - val_loss: 0.2367 - val_binary_accuracy: 0.9090\n",
      "Epoch 49/100\n",
      "100/100 [==============================] - 13s 130ms/step - loss: 0.2680 - binary_accuracy: 0.8830 - val_loss: 0.2375 - val_binary_accuracy: 0.9090\n",
      "Epoch 50/100\n",
      "100/100 [==============================] - 13s 130ms/step - loss: 0.2672 - binary_accuracy: 0.8830 - val_loss: 0.2392 - val_binary_accuracy: 0.9050\n",
      "Epoch 51/100\n",
      "100/100 [==============================] - 13s 130ms/step - loss: 0.2541 - binary_accuracy: 0.8975 - val_loss: 0.2593 - val_binary_accuracy: 0.8980\n"
     ]
    },
    {
     "name": "stdout",
     "output_type": "stream",
     "text": [
      "Epoch 52/100\n",
      "100/100 [==============================] - 13s 130ms/step - loss: 0.2508 - binary_accuracy: 0.8880 - val_loss: 0.2369 - val_binary_accuracy: 0.9080\n",
      "Epoch 53/100\n",
      "100/100 [==============================] - 13s 130ms/step - loss: 0.2632 - binary_accuracy: 0.8860 - val_loss: 0.2353 - val_binary_accuracy: 0.9050\n",
      "Epoch 54/100\n",
      "100/100 [==============================] - 13s 129ms/step - loss: 0.2454 - binary_accuracy: 0.8955 - val_loss: 0.2349 - val_binary_accuracy: 0.9080\n",
      "Epoch 55/100\n",
      "100/100 [==============================] - 13s 129ms/step - loss: 0.2563 - binary_accuracy: 0.8895 - val_loss: 0.2370 - val_binary_accuracy: 0.9080\n",
      "Epoch 56/100\n",
      "100/100 [==============================] - 13s 130ms/step - loss: 0.2626 - binary_accuracy: 0.8845 - val_loss: 0.2487 - val_binary_accuracy: 0.8940\n",
      "Epoch 57/100\n",
      "100/100 [==============================] - 13s 130ms/step - loss: 0.2556 - binary_accuracy: 0.8910 - val_loss: 0.2484 - val_binary_accuracy: 0.8930\n",
      "Epoch 58/100\n",
      "100/100 [==============================] - 13s 130ms/step - loss: 0.2555 - binary_accuracy: 0.8965 - val_loss: 0.2416 - val_binary_accuracy: 0.9030\n",
      "Epoch 59/100\n",
      "100/100 [==============================] - 13s 130ms/step - loss: 0.2598 - binary_accuracy: 0.8905 - val_loss: 0.2555 - val_binary_accuracy: 0.8980\n",
      "Epoch 60/100\n",
      "100/100 [==============================] - 13s 130ms/step - loss: 0.2338 - binary_accuracy: 0.9025 - val_loss: 0.2423 - val_binary_accuracy: 0.9090\n",
      "Epoch 61/100\n",
      "100/100 [==============================] - 13s 130ms/step - loss: 0.2576 - binary_accuracy: 0.8880 - val_loss: 0.2393 - val_binary_accuracy: 0.9060\n",
      "Epoch 62/100\n",
      "100/100 [==============================] - 13s 129ms/step - loss: 0.2547 - binary_accuracy: 0.8920 - val_loss: 0.2383 - val_binary_accuracy: 0.9080\n",
      "Epoch 63/100\n",
      "100/100 [==============================] - 13s 130ms/step - loss: 0.2666 - binary_accuracy: 0.8845 - val_loss: 0.2438 - val_binary_accuracy: 0.9020\n",
      "Epoch 64/100\n",
      "100/100 [==============================] - 13s 130ms/step - loss: 0.2458 - binary_accuracy: 0.9015 - val_loss: 0.2509 - val_binary_accuracy: 0.9020\n",
      "Epoch 65/100\n",
      "100/100 [==============================] - 13s 130ms/step - loss: 0.2508 - binary_accuracy: 0.8955 - val_loss: 0.2366 - val_binary_accuracy: 0.9060\n",
      "Epoch 66/100\n",
      "100/100 [==============================] - 13s 130ms/step - loss: 0.2514 - binary_accuracy: 0.8920 - val_loss: 0.2369 - val_binary_accuracy: 0.9130\n",
      "Epoch 67/100\n",
      "100/100 [==============================] - 13s 130ms/step - loss: 0.2561 - binary_accuracy: 0.8820 - val_loss: 0.2371 - val_binary_accuracy: 0.9080\n",
      "Epoch 68/100\n",
      "100/100 [==============================] - 13s 130ms/step - loss: 0.2500 - binary_accuracy: 0.8960 - val_loss: 0.2492 - val_binary_accuracy: 0.8940\n",
      "Epoch 69/100\n",
      "100/100 [==============================] - 13s 129ms/step - loss: 0.2507 - binary_accuracy: 0.8890 - val_loss: 0.2561 - val_binary_accuracy: 0.9030\n",
      "Epoch 70/100\n",
      "100/100 [==============================] - 13s 130ms/step - loss: 0.2539 - binary_accuracy: 0.8855 - val_loss: 0.2407 - val_binary_accuracy: 0.9040\n",
      "Epoch 71/100\n",
      "100/100 [==============================] - 13s 130ms/step - loss: 0.2380 - binary_accuracy: 0.8975 - val_loss: 0.2451 - val_binary_accuracy: 0.9030\n",
      "Epoch 72/100\n",
      "100/100 [==============================] - 13s 130ms/step - loss: 0.2413 - binary_accuracy: 0.8980 - val_loss: 0.2565 - val_binary_accuracy: 0.8990\n",
      "Epoch 73/100\n",
      "100/100 [==============================] - 13s 132ms/step - loss: 0.2456 - binary_accuracy: 0.8995 - val_loss: 0.2425 - val_binary_accuracy: 0.9020\n",
      "Epoch 74/100\n",
      "100/100 [==============================] - 13s 129ms/step - loss: 0.2422 - binary_accuracy: 0.8955 - val_loss: 0.2350 - val_binary_accuracy: 0.9070\n",
      "Epoch 75/100\n",
      "100/100 [==============================] - 13s 130ms/step - loss: 0.2457 - binary_accuracy: 0.8935 - val_loss: 0.2365 - val_binary_accuracy: 0.9040\n",
      "Epoch 76/100\n",
      "100/100 [==============================] - 13s 130ms/step - loss: 0.2364 - binary_accuracy: 0.8955 - val_loss: 0.2427 - val_binary_accuracy: 0.9050\n",
      "Epoch 77/100\n",
      "100/100 [==============================] - 13s 130ms/step - loss: 0.2428 - binary_accuracy: 0.8975 - val_loss: 0.2403 - val_binary_accuracy: 0.9020\n",
      "Epoch 78/100\n",
      "100/100 [==============================] - 13s 130ms/step - loss: 0.2512 - binary_accuracy: 0.8920 - val_loss: 0.2372 - val_binary_accuracy: 0.9020\n",
      "Epoch 79/100\n",
      "100/100 [==============================] - 13s 130ms/step - loss: 0.2469 - binary_accuracy: 0.8980 - val_loss: 0.2431 - val_binary_accuracy: 0.8980\n",
      "Epoch 80/100\n",
      "100/100 [==============================] - 13s 130ms/step - loss: 0.2401 - binary_accuracy: 0.8970 - val_loss: 0.2369 - val_binary_accuracy: 0.9070\n",
      "Epoch 81/100\n",
      "100/100 [==============================] - 13s 130ms/step - loss: 0.2429 - binary_accuracy: 0.9010 - val_loss: 0.2385 - val_binary_accuracy: 0.9040\n",
      "Epoch 82/100\n",
      "100/100 [==============================] - 13s 130ms/step - loss: 0.2461 - binary_accuracy: 0.8910 - val_loss: 0.2388 - val_binary_accuracy: 0.9030\n",
      "Epoch 83/100\n",
      "100/100 [==============================] - 13s 130ms/step - loss: 0.2507 - binary_accuracy: 0.8815 - val_loss: 0.2382 - val_binary_accuracy: 0.9060\n",
      "Epoch 84/100\n",
      "100/100 [==============================] - 13s 130ms/step - loss: 0.2385 - binary_accuracy: 0.8965 - val_loss: 0.2386 - val_binary_accuracy: 0.9050\n",
      "Epoch 85/100\n",
      "100/100 [==============================] - 13s 131ms/step - loss: 0.2360 - binary_accuracy: 0.9025 - val_loss: 0.2384 - val_binary_accuracy: 0.9100\n",
      "Epoch 86/100\n",
      "100/100 [==============================] - 13s 129ms/step - loss: 0.2464 - binary_accuracy: 0.8885 - val_loss: 0.2374 - val_binary_accuracy: 0.9150\n",
      "Epoch 87/100\n",
      "100/100 [==============================] - 13s 130ms/step - loss: 0.2481 - binary_accuracy: 0.8910 - val_loss: 0.2368 - val_binary_accuracy: 0.9090\n",
      "Epoch 88/100\n",
      "100/100 [==============================] - 13s 130ms/step - loss: 0.2410 - binary_accuracy: 0.9040 - val_loss: 0.2361 - val_binary_accuracy: 0.9100\n",
      "Epoch 89/100\n",
      "100/100 [==============================] - 13s 130ms/step - loss: 0.2336 - binary_accuracy: 0.8975 - val_loss: 0.2354 - val_binary_accuracy: 0.9030\n",
      "Epoch 90/100\n",
      "100/100 [==============================] - 13s 130ms/step - loss: 0.2347 - binary_accuracy: 0.8985 - val_loss: 0.2384 - val_binary_accuracy: 0.9050\n",
      "Epoch 91/100\n",
      "100/100 [==============================] - 13s 130ms/step - loss: 0.2407 - binary_accuracy: 0.8960 - val_loss: 0.2433 - val_binary_accuracy: 0.9080\n",
      "Epoch 92/100\n",
      "100/100 [==============================] - 13s 130ms/step - loss: 0.2321 - binary_accuracy: 0.9010 - val_loss: 0.2383 - val_binary_accuracy: 0.9070\n",
      "Epoch 93/100\n",
      "100/100 [==============================] - 13s 130ms/step - loss: 0.2268 - binary_accuracy: 0.8985 - val_loss: 0.2420 - val_binary_accuracy: 0.9040\n",
      "Epoch 94/100\n",
      "100/100 [==============================] - 13s 129ms/step - loss: 0.2477 - binary_accuracy: 0.8900 - val_loss: 0.2527 - val_binary_accuracy: 0.9010\n",
      "Epoch 95/100\n",
      "100/100 [==============================] - 13s 129ms/step - loss: 0.2383 - binary_accuracy: 0.9005 - val_loss: 0.2392 - val_binary_accuracy: 0.9020\n",
      "Epoch 96/100\n",
      "100/100 [==============================] - 13s 130ms/step - loss: 0.2338 - binary_accuracy: 0.8945 - val_loss: 0.2370 - val_binary_accuracy: 0.9040\n",
      "Epoch 97/100\n",
      "100/100 [==============================] - 13s 130ms/step - loss: 0.2406 - binary_accuracy: 0.9000 - val_loss: 0.2418 - val_binary_accuracy: 0.9020\n",
      "Epoch 98/100\n",
      "100/100 [==============================] - 13s 130ms/step - loss: 0.2316 - binary_accuracy: 0.9070 - val_loss: 0.2387 - val_binary_accuracy: 0.9040\n",
      "Epoch 99/100\n",
      "100/100 [==============================] - 13s 130ms/step - loss: 0.2365 - binary_accuracy: 0.8980 - val_loss: 0.2694 - val_binary_accuracy: 0.8930\n",
      "Epoch 100/100\n",
      "100/100 [==============================] - 13s 130ms/step - loss: 0.2315 - binary_accuracy: 0.9020 - val_loss: 0.2394 - val_binary_accuracy: 0.9030\n"
     ]
    }
   ],
   "source": [
    "num_epochs = 100\n",
    "history = network.fit_generator(train_stream, steps_per_epoch=100, epochs=num_epochs,\n",
    "                      validation_data=validation_stream, validation_steps=50).history"
   ]
  },
  {
   "cell_type": "code",
   "execution_count": 18,
   "metadata": {},
   "outputs": [
    {
     "data": {
      "image/png": "[encoded data removed]",
      "text/plain": [
       "<Figure size 432x288 with 1 Axes>"
      ]
     },
     "metadata": {
      "needs_background": "light"
     },
     "output_type": "display_data"
    },
    {
     "data": {
      "image/png": "[encoded data removed]",
      "text/plain": [
       "<Figure size 432x288 with 1 Axes>"
      ]
     },
     "metadata": {
      "needs_background": "light"
     },
     "output_type": "display_data"
    }
   ],
   "source": [
    "x = range(1, num_epochs + 1)\n",
    "\n",
    "viz.plot(x, history['loss'], 'bo', label='training loss')\n",
    "viz.plot(x, history['val_loss'], 'b+', label='validation loss')\n",
    "viz.title('training and validation loss')\n",
    "viz.xlabel('epochs')\n",
    "viz.legend()\n",
    "\n",
    "viz.figure()\n",
    "\n",
    "viz.plot(x, history['binary_accuracy'], 'bo', label='training accuracy')\n",
    "viz.plot(x, history['val_binary_accuracy'], 'b+', label='validation accuracy')\n",
    "viz.title('training and validation accuracy')\n",
    "viz.xlabel('epochs')\n",
    "viz.legend()\n",
    "\n",
    "viz.show()"
   ]
  },
  {
   "cell_type": "code",
   "execution_count": null,
   "metadata": {},
   "outputs": [],
   "source": []
  }
 ],
 "metadata": {
  "kernelspec": {
   "display_name": "Python 3",
   "language": "python",
   "name": "python3"
  },
  "language_info": {
   "codemirror_mode": {
    "name": "ipython",
    "version": 3
   },
   "file_extension": ".py",
   "mimetype": "text/x-python",
   "name": "python",
   "nbconvert_exporter": "python",
   "pygments_lexer": "ipython3",
   "version": "3.6.6"
  }
 },
 "nbformat": 4,
 "nbformat_minor": 2
}
