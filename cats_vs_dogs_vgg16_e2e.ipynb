{
 "cells": [
  {
   "cell_type": "code",
   "execution_count": 14,
   "metadata": {},
   "outputs": [],
   "source": [
    "from keras import models, layers, optimizers, losses, metrics\n",
    "from keras.preprocessing.image import ImageDataGenerator\n",
    "from keras.applications import VGG16\n",
    "import matplotlib.pyplot as viz"
   ]
  },
  {
   "cell_type": "code",
   "execution_count": 15,
   "metadata": {},
   "outputs": [
    {
     "name": "stdout",
     "output_type": "stream",
     "text": [
      "_________________________________________________________________\n",
      "Layer (type)                 Output Shape              Param #   \n",
      "=================================================================\n",
      "input_2 (InputLayer)         (None, 150, 150, 3)       0         \n",
      "_________________________________________________________________\n",
      "block1_conv1 (Conv2D)        (None, 150, 150, 64)      1792      \n",
      "_________________________________________________________________\n",
      "block1_conv2 (Conv2D)        (None, 150, 150, 64)      36928     \n",
      "_________________________________________________________________\n",
      "block1_pool (MaxPooling2D)   (None, 75, 75, 64)        0         \n",
      "_________________________________________________________________\n",
      "block2_conv1 (Conv2D)        (None, 75, 75, 128)       73856     \n",
      "_________________________________________________________________\n",
      "block2_conv2 (Conv2D)        (None, 75, 75, 128)       147584    \n",
      "_________________________________________________________________\n",
      "block2_pool (MaxPooling2D)   (None, 37, 37, 128)       0         \n",
      "_________________________________________________________________\n",
      "block3_conv1 (Conv2D)        (None, 37, 37, 256)       295168    \n",
      "_________________________________________________________________\n",
      "block3_conv2 (Conv2D)        (None, 37, 37, 256)       590080    \n",
      "_________________________________________________________________\n",
      "block3_conv3 (Conv2D)        (None, 37, 37, 256)       590080    \n",
      "_________________________________________________________________\n",
      "block3_pool (MaxPooling2D)   (None, 18, 18, 256)       0         \n",
      "_________________________________________________________________\n",
      "block4_conv1 (Conv2D)        (None, 18, 18, 512)       1180160   \n",
      "_________________________________________________________________\n",
      "block4_conv2 (Conv2D)        (None, 18, 18, 512)       2359808   \n",
      "_________________________________________________________________\n",
      "block4_conv3 (Conv2D)        (None, 18, 18, 512)       2359808   \n",
      "_________________________________________________________________\n",
      "block4_pool (MaxPooling2D)   (None, 9, 9, 512)         0         \n",
      "_________________________________________________________________\n",
      "block5_conv1 (Conv2D)        (None, 9, 9, 512)         2359808   \n",
      "_________________________________________________________________\n",
      "block5_conv2 (Conv2D)        (None, 9, 9, 512)         2359808   \n",
      "_________________________________________________________________\n",
      "block5_conv3 (Conv2D)        (None, 9, 9, 512)         2359808   \n",
      "_________________________________________________________________\n",
      "block5_pool (MaxPooling2D)   (None, 4, 4, 512)         0         \n",
      "=================================================================\n",
      "Total params: 14,714,688\n",
      "Trainable params: 14,714,688\n",
      "Non-trainable params: 0\n",
      "_________________________________________________________________\n"
     ]
    }
   ],
   "source": [
    "width = 150\n",
    "height = 150\n",
    "rgb = 3\n",
    "conv_base = VGG16(weights='imagenet', include_top=False, input_shape=(width, height, rgb))\n",
    "conv_base.summary()"
   ]
  },
  {
   "cell_type": "code",
   "execution_count": 16,
   "metadata": {},
   "outputs": [],
   "source": [
    "base_dir = '.data/cats_vs_dogs_small'\n",
    "train_dir = os.path.join(base_dir, 'train')\n",
    "validation_dir = os.path.join(base_dir, 'validation')\n",
    "test_dir = os.path.join(base_dir, 'test')"
   ]
  },
  {
   "cell_type": "code",
   "execution_count": 17,
   "metadata": {},
   "outputs": [
    {
     "name": "stdout",
     "output_type": "stream",
     "text": [
      "_________________________________________________________________\n",
      "Layer (type)                 Output Shape              Param #   \n",
      "=================================================================\n",
      "vgg16 (Model)                (None, 4, 4, 512)         14714688  \n",
      "_________________________________________________________________\n",
      "flatten_3 (Flatten)          (None, 8192)              0         \n",
      "_________________________________________________________________\n",
      "dense_5 (Dense)              (None, 256)               2097408   \n",
      "_________________________________________________________________\n",
      "dense_6 (Dense)              (None, 1)                 257       \n",
      "=================================================================\n",
      "Total params: 16,812,353\n",
      "Trainable params: 16,812,353\n",
      "Non-trainable params: 0\n",
      "_________________________________________________________________\n"
     ]
    }
   ],
   "source": [
    "network = models.Sequential()\n",
    "network.add(conv_base)\n",
    "network.add(layers.Flatten())\n",
    "network.add(layers.Dense(256, activation='relu'))\n",
    "network.add(layers.Dense(1, activation='sigmoid'))\n",
    "network.summary()"
   ]
  },
  {
   "cell_type": "code",
   "execution_count": 18,
   "metadata": {},
   "outputs": [
    {
     "name": "stdout",
     "output_type": "stream",
     "text": [
      "trainable weight tensors before freezing conv_base: 30\n",
      "trainable weight tensors with conv_base frozen: 4\n"
     ]
    }
   ],
   "source": [
    "print('trainable weight tensors before freezing conv_base: {}'.format(len(network.trainable_weights)))\n",
    "conv_base.trainable = False\n",
    "print('trainable weight tensors with conv_base frozen: {}'.format(len(network.trainable_weights)))"
   ]
  },
  {
   "cell_type": "code",
   "execution_count": 19,
   "metadata": {},
   "outputs": [],
   "source": [
    "network.compile(optimizer=optimizers.RMSprop(lr=2e-5),\n",
    "                loss=losses.binary_crossentropy,\n",
    "                metrics=[metrics.binary_accuracy])"
   ]
  },
  {
   "cell_type": "code",
   "execution_count": 20,
   "metadata": {},
   "outputs": [
    {
     "name": "stdout",
     "output_type": "stream",
     "text": [
      "Found 2000 images belonging to 2 classes.\n",
      "Found 1000 images belonging to 2 classes.\n"
     ]
    }
   ],
   "source": [
    "rescale_factor = 1.0 / 255\n",
    "batch_size = 20\n",
    "\n",
    "train_data_generator = ImageDataGenerator(rescale=rescale_factor,\n",
    "                                          rotation_range=40,\n",
    "                                          width_shift_range=0.2,\n",
    "                                          height_shift_range=0.2,\n",
    "                                          shear_range=0.2,\n",
    "                                          zoom_range=0.2,\n",
    "                                          horizontal_flip=True,\n",
    "                                          fill_mode='nearest')\n",
    "validation_data_generator = ImageDataGenerator(rescale=rescale_factor)\n",
    "\n",
    "train_stream = train_data_generator.flow_from_directory(train_dir, target_size=(width, height),\n",
    "                                                        batch_size=batch_size, class_mode='binary')\n",
    "\n",
    "validation_stream = validation_data_generator.flow_from_directory(validation_dir, target_size=(width, height),\n",
    "                                                                  batch_size=batch_size, class_mode='binary')"
   ]
  },
  {
   "cell_type": "code",
   "execution_count": 21,
   "metadata": {},
   "outputs": [
    {
     "name": "stdout",
     "output_type": "stream",
     "text": [
      "Epoch 1/30\n",
      "100/100 [==============================] - 615s 6s/step - loss: 0.6025 - binary_accuracy: 0.6875 - val_loss: 0.4701 - val_binary_accuracy: 0.8070\n",
      "Epoch 2/30\n",
      "100/100 [==============================] - 612s 6s/step - loss: 0.4899 - binary_accuracy: 0.7830 - val_loss: 0.3832 - val_binary_accuracy: 0.8360\n",
      "Epoch 3/30\n",
      "100/100 [==============================] - 617s 6s/step - loss: 0.4398 - binary_accuracy: 0.8030 - val_loss: 0.3381 - val_binary_accuracy: 0.8530\n",
      "Epoch 4/30\n",
      "100/100 [==============================] - 609s 6s/step - loss: 0.4086 - binary_accuracy: 0.8220 - val_loss: 0.3135 - val_binary_accuracy: 0.8610\n",
      "Epoch 5/30\n",
      "100/100 [==============================] - 608s 6s/step - loss: 0.3885 - binary_accuracy: 0.8360 - val_loss: 0.3011 - val_binary_accuracy: 0.8660\n",
      "Epoch 6/30\n",
      "100/100 [==============================] - 659s 7s/step - loss: 0.3793 - binary_accuracy: 0.8320 - val_loss: 0.2871 - val_binary_accuracy: 0.8790\n",
      "Epoch 7/30\n",
      "100/100 [==============================] - 663s 7s/step - loss: 0.3643 - binary_accuracy: 0.8410 - val_loss: 0.2962 - val_binary_accuracy: 0.8690\n",
      "Epoch 8/30\n",
      "100/100 [==============================] - 638s 6s/step - loss: 0.3569 - binary_accuracy: 0.8410 - val_loss: 0.2718 - val_binary_accuracy: 0.8820\n",
      "Epoch 9/30\n",
      "100/100 [==============================] - 610s 6s/step - loss: 0.3432 - binary_accuracy: 0.8605 - val_loss: 0.2871 - val_binary_accuracy: 0.8710\n",
      "Epoch 10/30\n",
      "100/100 [==============================] - 607s 6s/step - loss: 0.3333 - binary_accuracy: 0.8560 - val_loss: 0.2782 - val_binary_accuracy: 0.8800\n",
      "Epoch 11/30\n",
      "100/100 [==============================] - 608s 6s/step - loss: 0.3341 - binary_accuracy: 0.8505 - val_loss: 0.2559 - val_binary_accuracy: 0.8850\n",
      "Epoch 12/30\n",
      "100/100 [==============================] - 609s 6s/step - loss: 0.3235 - binary_accuracy: 0.8600 - val_loss: 0.2531 - val_binary_accuracy: 0.8900\n",
      "Epoch 13/30\n",
      "100/100 [==============================] - 615s 6s/step - loss: 0.3336 - binary_accuracy: 0.8550 - val_loss: 0.2561 - val_binary_accuracy: 0.8850\n",
      "Epoch 14/30\n",
      "100/100 [==============================] - 611s 6s/step - loss: 0.3291 - binary_accuracy: 0.8555 - val_loss: 0.2483 - val_binary_accuracy: 0.9000\n",
      "Epoch 15/30\n",
      "100/100 [==============================] - 610s 6s/step - loss: 0.3135 - binary_accuracy: 0.8680 - val_loss: 0.2546 - val_binary_accuracy: 0.8940\n",
      "Epoch 16/30\n",
      "100/100 [==============================] - 608s 6s/step - loss: 0.3265 - binary_accuracy: 0.8595 - val_loss: 0.2529 - val_binary_accuracy: 0.8890\n",
      "Epoch 17/30\n",
      "100/100 [==============================] - 609s 6s/step - loss: 0.3156 - binary_accuracy: 0.8585 - val_loss: 0.2457 - val_binary_accuracy: 0.8940\n",
      "Epoch 18/30\n",
      "100/100 [==============================] - 611s 6s/step - loss: 0.3104 - binary_accuracy: 0.8680 - val_loss: 0.2469 - val_binary_accuracy: 0.8950\n",
      "Epoch 19/30\n",
      "100/100 [==============================] - 609s 6s/step - loss: 0.3037 - binary_accuracy: 0.8700 - val_loss: 0.2564 - val_binary_accuracy: 0.8920\n",
      "Epoch 20/30\n",
      "100/100 [==============================] - 606s 6s/step - loss: 0.3025 - binary_accuracy: 0.8650 - val_loss: 0.2507 - val_binary_accuracy: 0.8930\n",
      "Epoch 21/30\n",
      "100/100 [==============================] - 604s 6s/step - loss: 0.3067 - binary_accuracy: 0.8685 - val_loss: 0.2403 - val_binary_accuracy: 0.8940\n",
      "Epoch 22/30\n",
      "100/100 [==============================] - 604s 6s/step - loss: 0.2928 - binary_accuracy: 0.8765 - val_loss: 0.2433 - val_binary_accuracy: 0.8960\n",
      "Epoch 23/30\n",
      "100/100 [==============================] - 605s 6s/step - loss: 0.3065 - binary_accuracy: 0.8720 - val_loss: 0.2397 - val_binary_accuracy: 0.8940\n",
      "Epoch 24/30\n",
      "100/100 [==============================] - 605s 6s/step - loss: 0.3037 - binary_accuracy: 0.8650 - val_loss: 0.2460 - val_binary_accuracy: 0.8950\n",
      "Epoch 25/30\n",
      "100/100 [==============================] - 606s 6s/step - loss: 0.2846 - binary_accuracy: 0.8745 - val_loss: 0.2378 - val_binary_accuracy: 0.9000\n",
      "Epoch 26/30\n",
      "100/100 [==============================] - 609s 6s/step - loss: 0.2837 - binary_accuracy: 0.8775 - val_loss: 0.2506 - val_binary_accuracy: 0.8910\n",
      "Epoch 27/30\n",
      "100/100 [==============================] - 605s 6s/step - loss: 0.2892 - binary_accuracy: 0.8730 - val_loss: 0.2457 - val_binary_accuracy: 0.8970\n",
      "Epoch 28/30\n",
      "100/100 [==============================] - 603s 6s/step - loss: 0.3086 - binary_accuracy: 0.8610 - val_loss: 0.2423 - val_binary_accuracy: 0.9020\n",
      "Epoch 29/30\n",
      "100/100 [==============================] - 606s 6s/step - loss: 0.2891 - binary_accuracy: 0.8755 - val_loss: 0.2440 - val_binary_accuracy: 0.9020\n",
      "Epoch 30/30\n",
      "100/100 [==============================] - 609s 6s/step - loss: 0.2940 - binary_accuracy: 0.8640 - val_loss: 0.2431 - val_binary_accuracy: 0.8990\n"
     ]
    }
   ],
   "source": [
    "num_epochs = 30\n",
    "history = network.fit_generator(train_stream, steps_per_epoch=100, epochs=num_epochs,\n",
    "                      validation_data=validation_stream, validation_steps=50).history"
   ]
  },
  {
   "cell_type": "code",
   "execution_count": 23,
   "metadata": {},
   "outputs": [
    {
     "data": {
      "image/png": "[encoded data removed]",
      "text/plain": [
       "<Figure size 432x288 with 1 Axes>"
      ]
     },
     "metadata": {},
     "output_type": "display_data"
    },
    {
     "data": {
      "image/png": "[encoded data removed]",
      "text/plain": [
       "<Figure size 432x288 with 1 Axes>"
      ]
     },
     "metadata": {},
     "output_type": "display_data"
    }
   ],
   "source": [
    "x = range(1, num_epochs + 1)\n",
    "\n",
    "viz.plot(x, history['loss'], 'bo', label='training loss')\n",
    "viz.plot(x, history['val_loss'], 'b+', label='validation loss')\n",
    "viz.title('training and validation loss')\n",
    "viz.xlabel('epochs')\n",
    "viz.legend()\n",
    "\n",
    "viz.figure()\n",
    "\n",
    "viz.plot(x, history['binary_accuracy'], 'bo', label='training accuracy')\n",
    "viz.plot(x, history['val_binary_accuracy'], 'b+', label='validation accuracy')\n",
    "viz.title('training and validation accuracy')\n",
    "viz.xlabel('epochs')\n",
    "viz.legend()\n",
    "\n",
    "viz.show()"
   ]
  },
  {
   "cell_type": "code",
   "execution_count": null,
   "metadata": {},
   "outputs": [],
   "source": []
  }
 ],
 "metadata": {
  "kernelspec": {
   "display_name": "Python 3",
   "language": "python",
   "name": "python3"
  },
  "language_info": {
   "codemirror_mode": {
    "name": "ipython",
    "version": 3
   },
   "file_extension": ".py",
   "mimetype": "text/x-python",
   "name": "python",
   "nbconvert_exporter": "python",
   "pygments_lexer": "ipython3",
   "version": "3.6.6"
  }
 },
 "nbformat": 4,
 "nbformat_minor": 2
}
